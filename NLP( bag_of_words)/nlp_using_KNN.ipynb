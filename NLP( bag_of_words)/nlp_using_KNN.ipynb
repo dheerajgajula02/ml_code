{
 "cells": [
  {
   "cell_type": "code",
   "execution_count": 1,
   "metadata": {
    "collapsed": true
   },
   "outputs": [],
   "source": [
    "import numpy as np\n",
    "import pandas as pd"
   ]
  },
  {
   "cell_type": "code",
   "execution_count": 2,
   "outputs": [],
   "source": [
    "dataset = pd.read_csv('Restaurant_Reviews.tsv', delimiter='\\t', quoting=3)"
   ],
   "metadata": {
    "collapsed": false,
    "pycharm": {
     "name": "#%%\n"
    }
   }
  },
  {
   "cell_type": "code",
   "execution_count": 3,
   "outputs": [],
   "source": [
    "import re\n",
    "import nltk"
   ],
   "metadata": {
    "collapsed": false,
    "pycharm": {
     "name": "#%%\n"
    }
   }
  },
  {
   "cell_type": "code",
   "execution_count": 4,
   "outputs": [
    {
     "name": "stderr",
     "output_type": "stream",
     "text": [
      "[nltk_data] Downloading package stopwords to\n",
      "[nltk_data]     C:\\Users\\dheer\\AppData\\Roaming\\nltk_data...\n",
      "[nltk_data]   Package stopwords is already up-to-date!\n"
     ]
    }
   ],
   "source": [
    "nltk.download('stopwords')\n",
    "from nltk.corpus import stopwords\n",
    "from nltk.stem.porter import PorterStemmer\n",
    "final_words=[]\n",
    "\n",
    "for i in range(0,len(dataset)):\n",
    "    review=re.sub('[^a-zA-Z]',' ', dataset.iloc[i,0])\n",
    "    review=review.lower()\n",
    "    review=review.split()\n",
    "    ps=PorterStemmer()\n",
    "    stopwords_new = stopwords.words('english')\n",
    "    stopwords_new.remove('not')\n",
    "    review=[ps.stem(word) for word in review if not word in set(stopwords_new)]\n",
    "    review=' '.join(review)\n",
    "    final_words.append(review)"
   ],
   "metadata": {
    "collapsed": false,
    "pycharm": {
     "name": "#%%\n"
    }
   }
  },
  {
   "cell_type": "code",
   "execution_count": 8,
   "outputs": [],
   "source": [
    "from sklearn.feature_extraction.text import CountVectorizer\n",
    "cv = CountVectorizer(max_features=1500)\n",
    "x=cv.fit_transform(final_words).toarray()\n",
    "y=dataset.iloc[:,-1].values\n"
   ],
   "metadata": {
    "collapsed": false,
    "pycharm": {
     "name": "#%%\n"
    }
   }
  },
  {
   "cell_type": "code",
   "execution_count": 9,
   "outputs": [],
   "source": [
    "from sklearn.model_selection import train_test_split\n",
    "x_train, x_test, y_train, y_test = train_test_split(x,y,test_size=0.2 , random_state=0)"
   ],
   "metadata": {
    "collapsed": false,
    "pycharm": {
     "name": "#%%\n"
    }
   }
  },
  {
   "cell_type": "code",
   "execution_count": 11,
   "outputs": [
    {
     "data": {
      "text/plain": "KNeighborsClassifier()"
     },
     "execution_count": 11,
     "metadata": {},
     "output_type": "execute_result"
    }
   ],
   "source": [
    "from sklearn.neighbors import KNeighborsClassifier\n",
    "classifier = KNeighborsClassifier(n_neighbors=5, metric='minkowski', p=2)\n",
    "classifier.fit(x_train, y_train)"
   ],
   "metadata": {
    "collapsed": false,
    "pycharm": {
     "name": "#%%\n"
    }
   }
  },
  {
   "cell_type": "code",
   "execution_count": 14,
   "outputs": [
    {
     "data": {
      "text/plain": "array([[0, 0],\n       [0, 1],\n       [0, 1],\n       [0, 0],\n       [0, 1],\n       [0, 1],\n       [1, 1],\n       [0, 0],\n       [0, 0],\n       [1, 1],\n       [1, 0],\n       [1, 1],\n       [0, 1],\n       [1, 0],\n       [1, 0],\n       [1, 1],\n       [0, 0],\n       [0, 0],\n       [0, 0],\n       [1, 0],\n       [0, 0],\n       [1, 1],\n       [1, 1],\n       [0, 1],\n       [0, 0],\n       [1, 1],\n       [1, 0],\n       [1, 1],\n       [1, 1],\n       [0, 0],\n       [1, 1],\n       [1, 0],\n       [1, 1],\n       [1, 0],\n       [1, 0],\n       [0, 1],\n       [0, 0],\n       [0, 0],\n       [0, 0],\n       [1, 1],\n       [1, 1],\n       [0, 1],\n       [1, 1],\n       [0, 0],\n       [0, 0],\n       [0, 1],\n       [0, 1],\n       [0, 1],\n       [0, 1],\n       [0, 0],\n       [1, 0],\n       [1, 0],\n       [1, 1],\n       [1, 0],\n       [0, 1],\n       [0, 0],\n       [1, 0],\n       [1, 0],\n       [0, 0],\n       [1, 1],\n       [0, 0],\n       [0, 1],\n       [0, 1],\n       [0, 1],\n       [1, 0],\n       [0, 1],\n       [1, 0],\n       [1, 1],\n       [1, 0],\n       [0, 0],\n       [1, 1],\n       [1, 1],\n       [1, 1],\n       [1, 1],\n       [0, 0],\n       [0, 0],\n       [1, 0],\n       [1, 1],\n       [0, 0],\n       [1, 1],\n       [0, 0],\n       [1, 1],\n       [1, 0],\n       [0, 0],\n       [1, 1],\n       [1, 1],\n       [0, 0],\n       [0, 1],\n       [1, 1],\n       [0, 1],\n       [0, 0],\n       [1, 0],\n       [0, 1],\n       [0, 0],\n       [0, 0],\n       [1, 1],\n       [0, 0],\n       [1, 0],\n       [1, 0],\n       [0, 1],\n       [1, 1],\n       [1, 0],\n       [1, 1],\n       [0, 1],\n       [1, 0],\n       [0, 0],\n       [1, 0],\n       [1, 1],\n       [0, 0],\n       [1, 1],\n       [1, 0],\n       [1, 1],\n       [0, 0],\n       [0, 0],\n       [1, 0],\n       [0, 1],\n       [1, 1],\n       [1, 0],\n       [1, 1],\n       [1, 1],\n       [1, 0],\n       [0, 0],\n       [1, 1],\n       [0, 0],\n       [0, 0],\n       [0, 0],\n       [1, 1],\n       [0, 0],\n       [0, 0],\n       [1, 0],\n       [0, 0],\n       [1, 1],\n       [0, 0],\n       [0, 0],\n       [1, 0],\n       [1, 1],\n       [1, 1],\n       [1, 1],\n       [1, 0],\n       [0, 0],\n       [1, 1],\n       [1, 1],\n       [1, 1],\n       [0, 0],\n       [0, 0],\n       [0, 1],\n       [0, 0],\n       [1, 0],\n       [1, 1],\n       [1, 1],\n       [1, 0],\n       [1, 0],\n       [1, 1],\n       [1, 1],\n       [0, 0],\n       [0, 0],\n       [1, 1],\n       [1, 0],\n       [1, 1],\n       [0, 0],\n       [0, 1],\n       [0, 0],\n       [1, 1],\n       [1, 1],\n       [0, 1],\n       [0, 0],\n       [0, 0],\n       [0, 1],\n       [0, 0],\n       [1, 0],\n       [0, 1],\n       [1, 1],\n       [1, 1],\n       [0, 0],\n       [0, 1],\n       [1, 0],\n       [0, 0],\n       [1, 1],\n       [0, 0],\n       [1, 0],\n       [1, 1],\n       [0, 0],\n       [0, 0],\n       [0, 0],\n       [0, 0],\n       [1, 0],\n       [0, 0],\n       [1, 0],\n       [0, 0],\n       [1, 0],\n       [1, 1],\n       [0, 0],\n       [0, 0],\n       [0, 0],\n       [1, 1],\n       [0, 0],\n       [1, 1],\n       [1, 1],\n       [0, 0],\n       [1, 0]], dtype=int64)"
     },
     "execution_count": 14,
     "metadata": {},
     "output_type": "execute_result"
    }
   ],
   "source": [
    "y_predict = classifier.predict(x_test)\n",
    "np.concatenate((y_test.reshape(len(y_test),1), y_predict.reshape(len(y_predict),1)),1)"
   ],
   "metadata": {
    "collapsed": false,
    "pycharm": {
     "name": "#%%\n"
    }
   }
  },
  {
   "cell_type": "code",
   "execution_count": 15,
   "outputs": [
    {
     "data": {
      "text/plain": "array([[68, 29],\n       [42, 61]], dtype=int64)"
     },
     "execution_count": 15,
     "metadata": {},
     "output_type": "execute_result"
    }
   ],
   "source": [
    "from sklearn.metrics import confusion_matrix, accuracy_score\n",
    "confusion_matrix(y_test, y_predict)"
   ],
   "metadata": {
    "collapsed": false,
    "pycharm": {
     "name": "#%%\n"
    }
   }
  },
  {
   "cell_type": "code",
   "execution_count": 16,
   "outputs": [
    {
     "data": {
      "text/plain": "0.645"
     },
     "execution_count": 16,
     "metadata": {},
     "output_type": "execute_result"
    }
   ],
   "source": [
    "accuracy_score(y_predict, y_test)"
   ],
   "metadata": {
    "collapsed": false,
    "pycharm": {
     "name": "#%%\n"
    }
   }
  },
  {
   "cell_type": "code",
   "execution_count": null,
   "outputs": [],
   "source": [],
   "metadata": {
    "collapsed": false,
    "pycharm": {
     "name": "#%%\n"
    }
   }
  }
 ],
 "metadata": {
  "kernelspec": {
   "display_name": "Python 3",
   "language": "python",
   "name": "python3"
  },
  "language_info": {
   "codemirror_mode": {
    "name": "ipython",
    "version": 2
   },
   "file_extension": ".py",
   "mimetype": "text/x-python",
   "name": "python",
   "nbconvert_exporter": "python",
   "pygments_lexer": "ipython2",
   "version": "2.7.6"
  }
 },
 "nbformat": 4,
 "nbformat_minor": 0
}