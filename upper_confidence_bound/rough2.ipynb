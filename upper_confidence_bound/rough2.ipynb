{
 "cells": [
  {
   "cell_type": "code",
   "execution_count": 1,
   "metadata": {
    "collapsed": true
   },
   "outputs": [],
   "source": [
    "import numpy as np\n",
    "import pandas as pd\n",
    "import matplotlib.pyplot as plt"
   ]
  },
  {
   "cell_type": "code",
   "execution_count": 2,
   "outputs": [],
   "source": [
    "dataset = pd.read_csv('Ads_CTR_Optimisation.csv')"
   ],
   "metadata": {
    "collapsed": false,
    "pycharm": {
     "name": "#%%\n"
    }
   }
  },
  {
   "cell_type": "code",
   "execution_count": 3,
   "outputs": [],
   "source": [
    "import math\n",
    "N = 10000\n",
    "d = 10\n",
    "ads_selected = []\n",
    "numbers_of_selections = [0] * d\n",
    "sums_of_rewards = [0] * d\n",
    "total_reward = 0\n",
    "for n in range(0, N):\n",
    "    ad = 0\n",
    "    max_upper_bound = 0\n",
    "    for i in range(0, d):\n",
    "        if (numbers_of_selections[i] > 0):\n",
    "            average_reward = sums_of_rewards[i] / numbers_of_selections[i]\n",
    "            delta_i = math.sqrt(3/2 * math.log(n + 1) / numbers_of_selections[i])\n",
    "            upper_bound = average_reward + delta_i\n",
    "        else:\n",
    "            upper_bound = 1e400\n",
    "        if upper_bound > max_upper_bound:\n",
    "            max_upper_bound = upper_bound\n",
    "            ad = i\n",
    "    ads_selected.append(ad)\n",
    "    numbers_of_selections[ad] = numbers_of_selections[ad] + 1\n",
    "    reward = dataset.values[n, ad]\n",
    "    sums_of_rewards[ad] = sums_of_rewards[ad] + reward\n",
    "    total_reward = total_reward + reward"
   ],
   "metadata": {
    "collapsed": false,
    "pycharm": {
     "name": "#%%\n"
    }
   }
  },
  {
   "cell_type": "code",
   "execution_count": 4,
   "outputs": [
    {
     "data": {
      "text/plain": "[0,\n 1,\n 2,\n 3,\n 4,\n 5,\n 6,\n 7,\n 8,\n 9,\n 0,\n 1,\n 2,\n 3,\n 4,\n 5,\n 6,\n 7,\n 8,\n 9,\n 0,\n 0,\n 1,\n 2,\n 3,\n 4,\n 5,\n 6,\n 7,\n 8,\n 8,\n 9,\n 0,\n 8,\n 1,\n 2,\n 3,\n 4,\n 5,\n 6,\n 6,\n 7,\n 7,\n 7,\n 9,\n 7,\n 0,\n 6,\n 8,\n 1,\n 2,\n 3,\n 4,\n 4,\n 4,\n 4,\n 4,\n 5,\n 9,\n 7,\n 0,\n 0,\n 6,\n 8,\n 4,\n 0,\n 7,\n 1,\n 1,\n 2,\n 3,\n 5,\n 9,\n 4,\n 1,\n 6,\n 8,\n 0,\n 7,\n 2,\n 3,\n 5,\n 9,\n 4,\n 1,\n 6,\n 8,\n 0,\n 7,\n 7,\n 7,\n 7,\n 7,\n 7,\n 4,\n 2,\n 3,\n 5,\n 9,\n 1,\n 6,\n 8,\n 0,\n 0,\n 7,\n 0,\n 4,\n 1,\n 6,\n 8,\n 2,\n 3,\n 5,\n 9,\n 7,\n 0,\n 4,\n 4,\n 4,\n 7,\n 7,\n 7,\n 7,\n 1,\n 6,\n 8,\n 2,\n 3,\n 5,\n 9,\n 0,\n 7,\n 7,\n 4,\n 7,\n 7,\n 7,\n 1,\n 6,\n 8,\n 0,\n 4,\n 4,\n 2,\n 3,\n 5,\n 9,\n 4,\n 7,\n 0,\n 7,\n 1,\n 1,\n 1,\n 6,\n 6,\n 6,\n 6,\n 6,\n 8,\n 4,\n 2,\n 3,\n 5,\n 9,\n 7,\n 7,\n 7,\n 0,\n 6,\n 4,\n 1,\n 1,\n 1,\n 8,\n 7,\n 2,\n 3,\n 5,\n 9,\n 4,\n 0,\n 1,\n 1,\n 1,\n 6,\n 7,\n 8,\n 4,\n 1,\n 2,\n 3,\n 5,\n 9,\n 0,\n 6,\n 7,\n 8,\n 4,\n 7,\n 1,\n 0,\n 6,\n 2,\n 3,\n 5,\n 9,\n 7,\n 7,\n 7,\n 7,\n 4,\n 4,\n 4,\n 4,\n 4,\n 7,\n 8,\n 1,\n 0,\n 6,\n 6,\n 6,\n 7,\n 4,\n 2,\n 3,\n 5,\n 9,\n 1,\n 6,\n 8,\n 7,\n 0,\n 4,\n 4,\n 4,\n 4,\n 4,\n 2,\n 3,\n 5,\n 9,\n 1,\n 6,\n 7,\n 4,\n 8,\n 0,\n 7,\n 4,\n 4,\n 4,\n 1,\n 6,\n 2,\n 3,\n 5,\n 9,\n 0,\n 0,\n 0,\n 7,\n 8,\n 4,\n 0,\n 0,\n 0,\n 1,\n 6,\n 7,\n 4,\n 2,\n 3,\n 5,\n 9,\n 0,\n 8,\n 7,\n 1,\n 6,\n 4,\n 0,\n 7,\n 7,\n 7,\n 7,\n 7,\n 2,\n 3,\n 5,\n 9,\n 8,\n 4,\n 1,\n 6,\n 6,\n 6,\n 7,\n 7,\n 7,\n 0,\n 6,\n 7,\n 4,\n 1,\n 1,\n 1,\n 2,\n 2,\n 2,\n 3,\n 5,\n 9,\n 2,\n 8,\n 7,\n 0,\n 1,\n 6,\n 4,\n 7,\n 2,\n 8,\n 3,\n 5,\n 9,\n 9,\n 9,\n 9,\n 4,\n 0,\n 1,\n 6,\n 7,\n 4,\n 7,\n 0,\n 1,\n 6,\n 2,\n 8,\n 9,\n 3,\n 5,\n 4,\n 7,\n 0,\n 0,\n 0,\n 1,\n 6,\n 2,\n 8,\n 9,\n 4,\n 0,\n 3,\n 5,\n 7,\n 1,\n 6,\n 7,\n 4,\n 0,\n 2,\n 8,\n 9,\n 3,\n 5,\n 7,\n 4,\n 4,\n 4,\n 4,\n 4,\n 1,\n 6,\n 4,\n 0,\n 7,\n 2,\n 8,\n 9,\n 4,\n 3,\n 5,\n 1,\n 6,\n 6,\n 6,\n 0,\n 6,\n 7,\n 4,\n 4,\n 4,\n 2,\n 8,\n 8,\n 8,\n 8,\n 9,\n 4,\n 1,\n 7,\n 0,\n 6,\n 3,\n 5,\n 7,\n 7,\n 7,\n 4,\n 8,\n 1,\n 2,\n 9,\n 7,\n 0,\n 0,\n 0,\n 0,\n 0,\n 0,\n 0,\n 0,\n 0,\n 6,\n 3,\n 5,\n 4,\n 4,\n 4,\n 7,\n 4,\n 4,\n 4,\n 0,\n 1,\n 1,\n 1,\n 8,\n 8,\n 8,\n 8,\n 1,\n 6,\n 4,\n 2,\n 9,\n 7,\n 3,\n 3,\n 3,\n 3,\n 5,\n 0,\n 4,\n 4,\n 4,\n 8,\n 1,\n 6,\n 4,\n 7,\n 2,\n 3,\n 9,\n 0,\n 5,\n 4,\n 7,\n 1,\n 6,\n 8,\n 0,\n 2,\n 3,\n 9,\n 4,\n 7,\n 7,\n 7,\n 7,\n 1,\n 6,\n 8,\n 5,\n 0,\n 4,\n 7,\n 2,\n 3,\n 9,\n 1,\n 6,\n 4,\n 0,\n 8,\n 7,\n 5,\n 4,\n 1,\n 6,\n 6,\n 6,\n 6,\n 2,\n 3,\n 3,\n 3,\n 3,\n 9,\n 7,\n 0,\n 8,\n 4,\n 4,\n 4,\n 4,\n 4,\n 4,\n 3,\n 5,\n 7,\n 6,\n 1,\n 1,\n 1,\n 1,\n 0,\n 4,\n 2,\n 9,\n 8,\n 8,\n 8,\n 8,\n 7,\n 4,\n 4,\n 4,\n 4,\n 4,\n 4,\n 4,\n 4,\n 4,\n 4,\n 4,\n 4,\n 4,\n 4,\n 4,\n 4,\n 3,\n 1,\n 6,\n 4,\n 4,\n 4,\n 0,\n 5,\n 4,\n 4,\n 4,\n 8,\n 7,\n 7,\n 7,\n 2,\n 9,\n 4,\n 7,\n 0,\n 1,\n 6,\n 3,\n 4,\n 5,\n 5,\n 5,\n 5,\n 7,\n 8,\n 2,\n 5,\n 9,\n 4,\n 4,\n 4,\n 4,\n 4,\n 4,\n 4,\n 4,\n 0,\n 0,\n 0,\n 0,\n 4,\n 4,\n 4,\n 4,\n 4,\n 4,\n 4,\n 4,\n 1,\n 6,\n 4,\n 7,\n 7,\n 7,\n 3,\n 7,\n 8,\n 4,\n 0,\n 1,\n 6,\n 2,\n 5,\n 9,\n 9,\n 9,\n 9,\n 7,\n 4,\n 4,\n 4,\n 4,\n 4,\n 4,\n 4,\n 4,\n 4,\n 4,\n 4,\n 4,\n 4,\n 4,\n 4,\n 4,\n 3,\n 9,\n 4,\n 8,\n 0,\n 0,\n 0,\n 0,\n 0,\n 0,\n 0,\n 7,\n 1,\n 6,\n 6,\n 6,\n 6,\n 4,\n 4,\n 4,\n 4,\n 4,\n 4,\n 2,\n 5,\n 7,\n 7,\n 7,\n 7,\n 7,\n 7,\n 7,\n 7,\n 7,\n 7,\n 7,\n 7,\n 3,\n 9,\n 4,\n 0,\n 8,\n 6,\n 1,\n 4,\n 4,\n 4,\n 4,\n 4,\n 4,\n 4,\n 4,\n 4,\n 4,\n 4,\n 7,\n 7,\n 7,\n 2,\n 5,\n 7,\n 7,\n 7,\n 0,\n 0,\n 0,\n 0,\n 4,\n 7,\n 6,\n 3,\n 9,\n 8,\n 1,\n 1,\n 1,\n 1,\n 4,\n 7,\n 0,\n 4,\n 4,\n 4,\n 2,\n 5,\n 1,\n 6,\n 4,\n 4,\n 4,\n 4,\n 4,\n 4,\n 4,\n 4,\n 8,\n 7,\n 4,\n 3,\n 9,\n 0,\n 4,\n 7,\n 1,\n 6,\n 6,\n 6,\n 6,\n 2,\n 5,\n 4,\n 4,\n 4,\n 4,\n 4,\n 4,\n 4,\n 4,\n 8,\n 4,\n 0,\n 3,\n 3,\n 3,\n 3,\n 9,\n 7,\n 4,\n 6,\n 3,\n 1,\n 7,\n 4,\n 0,\n 2,\n 5,\n 8,\n 9,\n 4,\n 4,\n 4,\n 4,\n 4,\n 4,\n 6,\n 7,\n 1,\n 3,\n 4,\n 4,\n 4,\n 0,\n 4,\n 8,\n 7,\n 2,\n 5,\n 6,\n 6,\n 6,\n 6,\n 4,\n 9,\n 1,\n 0,\n 4,\n 3,\n 7,\n 6,\n 4,\n 8,\n 0,\n 2,\n 5,\n 7,\n 1,\n 9,\n 9,\n 9,\n 9,\n 4,\n 6,\n 3,\n 3,\n 3,\n 3,\n 9,\n 4,\n 4,\n 4,\n 7,\n 4,\n 0,\n 0,\n 0,\n 0,\n 3,\n 8,\n 1,\n 2,\n 5,\n 4,\n 7,\n 7,\n 7,\n 6,\n 7,\n 0,\n 9,\n 4,\n 3,\n 8,\n 1,\n 7,\n 7,\n 7,\n 7,\n 4,\n 6,\n 0,\n 0,\n 0,\n 0,\n 0,\n 0,\n 0,\n 0,\n 0,\n 0,\n 2,\n 5,\n 4,\n 9,\n 7,\n 0,\n 1,\n 4,\n 3,\n 8,\n 6,\n 7,\n 4,\n 0,\n 2,\n 5,\n 9,\n 1,\n 4,\n 4,\n 4,\n 4,\n 4,\n 4,\n 4,\n 4,\n 4,\n 4,\n 4,\n 4,\n 4,\n 4,\n 7,\n 6,\n 3,\n 8,\n 4,\n 0,\n 4,\n 7,\n 2,\n 5,\n 1,\n 4,\n 4,\n 4,\n 4,\n 4,\n 4,\n 4,\n 4,\n 4,\n 4,\n 4,\n 4,\n 4,\n 4,\n 4,\n 4,\n 4,\n 4,\n 4,\n 9,\n 6,\n 4,\n 4,\n 4,\n 4,\n 4,\n 4,\n 0,\n 3,\n 3,\n 3,\n 3,\n 8,\n 4,\n 4,\n 4,\n 4,\n 4,\n 4,\n 4,\n 4,\n 4,\n 4,\n 4,\n 4,\n 4,\n 4,\n 4,\n 4,\n 4,\n 4,\n 4,\n 4,\n 4,\n 4,\n 4,\n 4,\n 4,\n 7,\n 3,\n 4,\n 1,\n 6,\n 2,\n 5,\n 0,\n 9,\n 4,\n 4,\n 4,\n 7,\n 4,\n 8,\n 4,\n 3,\n 7,\n 0,\n 1,\n 6,\n 4,\n 2,\n 5,\n 9,\n ...]"
     },
     "execution_count": 4,
     "metadata": {},
     "output_type": "execute_result"
    }
   ],
   "source": [
    "ads_selected"
   ],
   "metadata": {
    "collapsed": false,
    "pycharm": {
     "name": "#%%\n"
    }
   }
  },
  {
   "cell_type": "code",
   "execution_count": 5,
   "outputs": [
    {
     "data": {
      "text/plain": "<Figure size 432x288 with 1 Axes>",
      "image/png": "[encoded data removed]"
     },
     "metadata": {
      "needs_background": "light"
     },
     "output_type": "display_data"
    }
   ],
   "source": [
    "plt.hist(ads_selected)\n",
    "plt.show()"
   ],
   "metadata": {
    "collapsed": false,
    "pycharm": {
     "name": "#%%\n"
    }
   }
  },
  {
   "cell_type": "code",
   "execution_count": null,
   "outputs": [],
   "source": [],
   "metadata": {
    "collapsed": false,
    "pycharm": {
     "name": "#%%\n"
    }
   }
  }
 ],
 "metadata": {
  "kernelspec": {
   "display_name": "Python 3",
   "language": "python",
   "name": "python3"
  },
  "language_info": {
   "codemirror_mode": {
    "name": "ipython",
    "version": 2
   },
   "file_extension": ".py",
   "mimetype": "text/x-python",
   "name": "python",
   "nbconvert_exporter": "python",
   "pygments_lexer": "ipython2",
   "version": "2.7.6"
  }
 },
 "nbformat": 4,
 "nbformat_minor": 0
}