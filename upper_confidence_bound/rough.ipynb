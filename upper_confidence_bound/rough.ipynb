{
 "cells": [
  {
   "cell_type": "code",
   "execution_count": 46,
   "metadata": {
    "collapsed": true
   },
   "outputs": [],
   "source": [
    "import numpy as np\n",
    "import pandas as pd\n",
    "import math"
   ]
  },
  {
   "cell_type": "code",
   "execution_count": 47,
   "outputs": [],
   "source": [
    "dataset = pd.read_csv('Ads_CTR_Optimisation.csv')"
   ],
   "metadata": {
    "collapsed": false,
    "pycharm": {
     "name": "#%%\n"
    }
   }
  },
  {
   "cell_type": "code",
   "execution_count": 48,
   "outputs": [],
   "source": [
    "ads_selected = []\n",
    "ads_rewards=[0]* len(dataset.iloc[0,:].values)\n",
    "ads_no_of_selections=[0]*len(dataset.iloc[0,:].values)\n",
    "total_rewards =0\n",
    "tests= len(dataset.iloc[:,0].values)"
   ],
   "metadata": {
    "collapsed": false,
    "pycharm": {
     "name": "#%%\n"
    }
   }
  },
  {
   "cell_type": "code",
   "execution_count": 49,
   "outputs": [],
   "source": [
    "for n in range(0,tests-9500):\n",
    "    ad=-1\n",
    "    max_upper_bound =0\n",
    "    for i in range(0,len(dataset.iloc[0,:].values)):\n",
    "        if ads_no_of_selections[i]>0 :\n",
    "            avg_reward= ads_rewards[i]/ads_no_of_selections[i]\n",
    "            delta_n = math.sqrt(3/2 * math.log(n + 1)/ads_no_of_selections[i])\n",
    "            upper_bound = avg_reward+delta_n\n",
    "        else :\n",
    "            upper_bound=1e400\n",
    "        if upper_bound > max_upper_bound :\n",
    "            max_upper_bound=upper_bound\n",
    "            ad=i\n",
    "    ads_selected.append(ad)\n",
    "    ads_no_of_selections[ad]+=1\n",
    "    reward = dataset.values[n,ad]\n",
    "    ads_rewards[ad]=ads_rewards[ad]+reward\n",
    "    total_rewards+=reward"
   ],
   "metadata": {
    "collapsed": false,
    "pycharm": {
     "name": "#%%\n"
    }
   }
  },
  {
   "cell_type": "code",
   "execution_count": 50,
   "outputs": [
    {
     "data": {
      "text/plain": "<Figure size 432x288 with 1 Axes>",
      "image/png": "[encoded data removed]"
     },
     "metadata": {
      "needs_background": "light"
     },
     "output_type": "display_data"
    }
   ],
   "source": [
    "import matplotlib.pyplot as plt\n",
    "plt.hist(ads_selected)\n",
    "plt.show()"
   ],
   "metadata": {
    "collapsed": false,
    "pycharm": {
     "name": "#%%\n"
    }
   }
  },
  {
   "cell_type": "code",
   "execution_count": 50,
   "outputs": [],
   "source": [],
   "metadata": {
    "collapsed": false,
    "pycharm": {
     "name": "#%%\n"
    }
   }
  },
  {
   "cell_type": "code",
   "execution_count": 50,
   "outputs": [],
   "source": [],
   "metadata": {
    "collapsed": false,
    "pycharm": {
     "name": "#%%\n"
    }
   }
  }
 ],
 "metadata": {
  "kernelspec": {
   "display_name": "Python 3",
   "language": "python",
   "name": "python3"
  },
  "language_info": {
   "codemirror_mode": {
    "name": "ipython",
    "version": 2
   },
   "file_extension": ".py",
   "mimetype": "text/x-python",
   "name": "python",
   "nbconvert_exporter": "python",
   "pygments_lexer": "ipython2",
   "version": "2.7.6"
  }
 },
 "nbformat": 4,
 "nbformat_minor": 0
}