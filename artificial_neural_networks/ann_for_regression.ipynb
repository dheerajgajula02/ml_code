{
 "cells": [
  {
   "cell_type": "code",
   "execution_count": 1,
   "metadata": {
    "collapsed": true
   },
   "outputs": [],
   "source": [
    "import pandas as pd\n",
    "import numpy as np\n",
    "import tensorflow as tf"
   ]
  },
  {
   "cell_type": "code",
   "execution_count": 2,
   "metadata": {},
   "outputs": [
    {
     "data": {
      "text/plain": "         AT      V       AP     RH      PE\n0     14.96  41.76  1024.07  73.17  463.26\n1     25.18  62.96  1020.04  59.08  444.37\n2      5.11  39.40  1012.16  92.14  488.56\n3     20.86  57.32  1010.24  76.64  446.48\n4     10.82  37.50  1009.23  96.62  473.90\n...     ...    ...      ...    ...     ...\n9563  16.65  49.69  1014.01  91.00  460.03\n9564  13.19  39.18  1023.67  66.78  469.62\n9565  31.32  74.33  1012.92  36.48  429.57\n9566  24.48  69.45  1013.86  62.39  435.74\n9567  21.60  62.52  1017.23  67.87  453.28\n\n[9568 rows x 5 columns]",
      "text/html": "<div>\n<style scoped>\n    .dataframe tbody tr th:only-of-type {\n        vertical-align: middle;\n    }\n\n    .dataframe tbody tr th {\n        vertical-align: top;\n    }\n\n    .dataframe thead th {\n        text-align: right;\n    }\n</style>\n<table border=\"1\" class=\"dataframe\">\n  <thead>\n    <tr style=\"text-align: right;\">\n      <th></th>\n      <th>AT</th>\n      <th>V</th>\n      <th>AP</th>\n      <th>RH</th>\n      <th>PE</th>\n    </tr>\n  </thead>\n  <tbody>\n    <tr>\n      <th>0</th>\n      <td>14.96</td>\n      <td>41.76</td>\n      <td>1024.07</td>\n      <td>73.17</td>\n      <td>463.26</td>\n    </tr>\n    <tr>\n      <th>1</th>\n      <td>25.18</td>\n      <td>62.96</td>\n      <td>1020.04</td>\n      <td>59.08</td>\n      <td>444.37</td>\n    </tr>\n    <tr>\n      <th>2</th>\n      <td>5.11</td>\n      <td>39.40</td>\n      <td>1012.16</td>\n      <td>92.14</td>\n      <td>488.56</td>\n    </tr>\n    <tr>\n      <th>3</th>\n      <td>20.86</td>\n      <td>57.32</td>\n      <td>1010.24</td>\n      <td>76.64</td>\n      <td>446.48</td>\n    </tr>\n    <tr>\n      <th>4</th>\n      <td>10.82</td>\n      <td>37.50</td>\n      <td>1009.23</td>\n      <td>96.62</td>\n      <td>473.90</td>\n    </tr>\n    <tr>\n      <th>...</th>\n      <td>...</td>\n      <td>...</td>\n      <td>...</td>\n      <td>...</td>\n      <td>...</td>\n    </tr>\n    <tr>\n      <th>9563</th>\n      <td>16.65</td>\n      <td>49.69</td>\n      <td>1014.01</td>\n      <td>91.00</td>\n      <td>460.03</td>\n    </tr>\n    <tr>\n      <th>9564</th>\n      <td>13.19</td>\n      <td>39.18</td>\n      <td>1023.67</td>\n      <td>66.78</td>\n      <td>469.62</td>\n    </tr>\n    <tr>\n      <th>9565</th>\n      <td>31.32</td>\n      <td>74.33</td>\n      <td>1012.92</td>\n      <td>36.48</td>\n      <td>429.57</td>\n    </tr>\n    <tr>\n      <th>9566</th>\n      <td>24.48</td>\n      <td>69.45</td>\n      <td>1013.86</td>\n      <td>62.39</td>\n      <td>435.74</td>\n    </tr>\n    <tr>\n      <th>9567</th>\n      <td>21.60</td>\n      <td>62.52</td>\n      <td>1017.23</td>\n      <td>67.87</td>\n      <td>453.28</td>\n    </tr>\n  </tbody>\n</table>\n<p>9568 rows × 5 columns</p>\n</div>"
     },
     "execution_count": 2,
     "metadata": {},
     "output_type": "execute_result"
    }
   ],
   "source": [
    "dataset = pd.read_excel('Folds5x2_pp.xlsx')\n",
    "dataset"
   ]
  },
  {
   "cell_type": "code",
   "execution_count": 3,
   "metadata": {},
   "outputs": [],
   "source": [
    "x=dataset.iloc[:,:-1].values\n",
    "y=dataset.iloc[:,-1].values\n"
   ]
  },
  {
   "cell_type": "code",
   "execution_count": 19,
   "metadata": {},
   "outputs": [
    {
     "name": "stdout",
     "output_type": "stream",
     "text": [
      "[[  28.66   77.95 1009.56   69.07]\n",
      " [  17.48   49.39 1021.51   84.53]\n",
      " [  14.86   43.14 1019.21   99.14]\n",
      " ...\n",
      " [  12.24   44.92 1023.74   88.21]\n",
      " [  27.28   47.93 1003.46   59.22]\n",
      " [  17.28   39.99 1007.09   74.25]]\n"
     ]
    }
   ],
   "source": [
    "from sklearn.model_selection import train_test_split\n",
    "x_train, x_test, y_train, y_test =train_test_split(x,y,test_size=0.2, random_state=0)\n",
    "print(x_test)"
   ]
  },
  {
   "cell_type": "code",
   "execution_count": 5,
   "metadata": {},
   "outputs": [],
   "source": [
    "# from sklearn.preprocessing import StandardScaler\n",
    "# sc_x = StandardScaler()\n",
    "# x_train = sc_x.fit_transform(x_train)\n",
    "# x_test = sc_x.transform(x_test)\n",
    "# sc_y = StandardScaler()\n",
    "# y_train = sc_y.fit_transform(y_train.reshape(len(y_train),1))\n",
    "# y_test=sc_y.transform(y_test.reshape(len(y_test),1))"
   ]
  },
  {
   "cell_type": "code",
   "execution_count": 6,
   "metadata": {},
   "outputs": [
    {
     "data": {
      "text/plain": "array([473.93, 467.87, 431.97, ..., 459.01, 462.72, 428.12])"
     },
     "execution_count": 6,
     "metadata": {},
     "output_type": "execute_result"
    }
   ],
   "source": [
    "y_train"
   ]
  },
  {
   "cell_type": "code",
   "execution_count": 7,
   "outputs": [
    {
     "data": {
      "text/plain": "array([431.23, 460.01, 461.14, ..., 473.26, 438.  , 463.28])"
     },
     "execution_count": 7,
     "metadata": {},
     "output_type": "execute_result"
    }
   ],
   "source": [
    "y_test"
   ],
   "metadata": {
    "collapsed": false,
    "pycharm": {
     "name": "#%%\n"
    }
   }
  },
  {
   "cell_type": "code",
   "execution_count": 8,
   "outputs": [],
   "source": [
    "ann = tf.keras.models.Sequential()"
   ],
   "metadata": {
    "collapsed": false,
    "pycharm": {
     "name": "#%%\n"
    }
   }
  },
  {
   "cell_type": "code",
   "execution_count": 9,
   "outputs": [],
   "source": [
    "ann.add(tf.keras.layers.Dense(units =6, activation='relu'))"
   ],
   "metadata": {
    "collapsed": false,
    "pycharm": {
     "name": "#%%\n"
    }
   }
  },
  {
   "cell_type": "code",
   "execution_count": 10,
   "outputs": [],
   "source": [
    "ann.add(tf.keras.layers.Dense(units=6, activation ='relu'))"
   ],
   "metadata": {
    "collapsed": false,
    "pycharm": {
     "name": "#%%\n"
    }
   }
  },
  {
   "cell_type": "markdown",
   "source": [
    "you can remove the activation function for regression for better results"
   ],
   "metadata": {
    "collapsed": false
   }
  },
  {
   "cell_type": "code",
   "execution_count": 11,
   "outputs": [],
   "source": [
    "ann.add(tf.keras.layers.Dense(units=1))"
   ],
   "metadata": {
    "collapsed": false,
    "pycharm": {
     "name": "#%%\n"
    }
   }
  },
  {
   "cell_type": "code",
   "execution_count": 12,
   "outputs": [],
   "source": [
    "ann.compile(optimizer='adam', loss='mean_squared_error')"
   ],
   "metadata": {
    "collapsed": false,
    "pycharm": {
     "name": "#%%\n"
    }
   }
  },
  {
   "cell_type": "code",
   "execution_count": 13,
   "outputs": [
    {
     "name": "stdout",
     "output_type": "stream",
     "text": [
      "Epoch 1/100\n",
      "240/240 [==============================] - 1s 1ms/step - loss: 291420.2500\n",
      "Epoch 2/100\n",
      "240/240 [==============================] - 0s 1ms/step - loss: 211001.9062\n",
      "Epoch 3/100\n",
      "240/240 [==============================] - 0s 1ms/step - loss: 146406.6719\n",
      "Epoch 4/100\n",
      "240/240 [==============================] - 0s 1ms/step - loss: 11255.0254\n",
      "Epoch 5/100\n",
      "240/240 [==============================] - 0s 1ms/step - loss: 475.1888\n",
      "Epoch 6/100\n",
      "240/240 [==============================] - 0s 1ms/step - loss: 463.4373\n",
      "Epoch 7/100\n",
      "240/240 [==============================] - 0s 1ms/step - loss: 450.2300\n",
      "Epoch 8/100\n",
      "240/240 [==============================] - 0s 1ms/step - loss: 435.3968\n",
      "Epoch 9/100\n",
      "240/240 [==============================] - 0s 1ms/step - loss: 418.9977\n",
      "Epoch 10/100\n",
      "240/240 [==============================] - 0s 1ms/step - loss: 400.9201\n",
      "Epoch 11/100\n",
      "240/240 [==============================] - 0s 1ms/step - loss: 381.3286\n",
      "Epoch 12/100\n",
      "240/240 [==============================] - 0s 1ms/step - loss: 360.4101\n",
      "Epoch 13/100\n",
      "240/240 [==============================] - 0s 1ms/step - loss: 338.4179\n",
      "Epoch 14/100\n",
      "240/240 [==============================] - 0s 1ms/step - loss: 314.8721\n",
      "Epoch 15/100\n",
      "240/240 [==============================] - 0s 1ms/step - loss: 290.5791\n",
      "Epoch 16/100\n",
      "240/240 [==============================] - 0s 1ms/step - loss: 265.4293\n",
      "Epoch 17/100\n",
      "240/240 [==============================] - 0s 1ms/step - loss: 240.1667\n",
      "Epoch 18/100\n",
      "240/240 [==============================] - 0s 1ms/step - loss: 214.6397\n",
      "Epoch 19/100\n",
      "240/240 [==============================] - 0s 1ms/step - loss: 189.4282\n",
      "Epoch 20/100\n",
      "240/240 [==============================] - 0s 1ms/step - loss: 164.8431\n",
      "Epoch 21/100\n",
      "240/240 [==============================] - 0s 1ms/step - loss: 141.3262\n",
      "Epoch 22/100\n",
      "240/240 [==============================] - 1s 3ms/step - loss: 119.4758\n",
      "Epoch 23/100\n",
      "240/240 [==============================] - 1s 3ms/step - loss: 98.3815\n",
      "Epoch 24/100\n",
      "240/240 [==============================] - 0s 1ms/step - loss: 77.6958\n",
      "Epoch 25/100\n",
      "240/240 [==============================] - 0s 1ms/step - loss: 60.7775\n",
      "Epoch 26/100\n",
      "240/240 [==============================] - 0s 1ms/step - loss: 48.0997\n",
      "Epoch 27/100\n",
      "240/240 [==============================] - 0s 1ms/step - loss: 39.1112\n",
      "Epoch 28/100\n",
      "240/240 [==============================] - 0s 1ms/step - loss: 33.0500\n",
      "Epoch 29/100\n",
      "240/240 [==============================] - 0s 1ms/step - loss: 29.4480\n",
      "Epoch 30/100\n",
      "240/240 [==============================] - 0s 1ms/step - loss: 27.6951\n",
      "Epoch 31/100\n",
      "240/240 [==============================] - 0s 1ms/step - loss: 26.9510\n",
      "Epoch 32/100\n",
      "240/240 [==============================] - 0s 1ms/step - loss: 26.7166\n",
      "Epoch 33/100\n",
      "240/240 [==============================] - 0s 1ms/step - loss: 26.5366\n",
      "Epoch 34/100\n",
      "240/240 [==============================] - 0s 1ms/step - loss: 26.3131\n",
      "Epoch 35/100\n",
      "240/240 [==============================] - 0s 1ms/step - loss: 26.3008\n",
      "Epoch 36/100\n",
      "240/240 [==============================] - 0s 1ms/step - loss: 26.6187\n",
      "Epoch 37/100\n",
      "240/240 [==============================] - 0s 1ms/step - loss: 26.4303\n",
      "Epoch 38/100\n",
      "240/240 [==============================] - 0s 1ms/step - loss: 26.3140\n",
      "Epoch 39/100\n",
      "240/240 [==============================] - 0s 1ms/step - loss: 26.9637\n",
      "Epoch 40/100\n",
      "240/240 [==============================] - 0s 1ms/step - loss: 26.3521\n",
      "Epoch 41/100\n",
      "240/240 [==============================] - 0s 1ms/step - loss: 26.3610\n",
      "Epoch 42/100\n",
      "240/240 [==============================] - 0s 1ms/step - loss: 26.5991\n",
      "Epoch 43/100\n",
      "240/240 [==============================] - 0s 1ms/step - loss: 26.6145\n",
      "Epoch 44/100\n",
      "240/240 [==============================] - 0s 1ms/step - loss: 26.5425\n",
      "Epoch 45/100\n",
      "240/240 [==============================] - 0s 1ms/step - loss: 26.7208\n",
      "Epoch 46/100\n",
      "240/240 [==============================] - 0s 1ms/step - loss: 26.8092\n",
      "Epoch 47/100\n",
      "240/240 [==============================] - 0s 1ms/step - loss: 26.7545\n",
      "Epoch 48/100\n",
      "240/240 [==============================] - 1s 3ms/step - loss: 26.2620\n",
      "Epoch 49/100\n",
      "240/240 [==============================] - 1s 3ms/step - loss: 26.2924\n",
      "Epoch 50/100\n",
      "240/240 [==============================] - 1s 3ms/step - loss: 26.4705\n",
      "Epoch 51/100\n",
      "240/240 [==============================] - 1s 3ms/step - loss: 26.4749\n",
      "Epoch 52/100\n",
      "240/240 [==============================] - 1s 3ms/step - loss: 27.0895\n",
      "Epoch 53/100\n",
      "240/240 [==============================] - 1s 3ms/step - loss: 26.4532\n",
      "Epoch 54/100\n",
      "240/240 [==============================] - 1s 3ms/step - loss: 26.4114\n",
      "Epoch 55/100\n",
      "240/240 [==============================] - 1s 2ms/step - loss: 27.8081\n",
      "Epoch 56/100\n",
      "240/240 [==============================] - 0s 1ms/step - loss: 26.2620\n",
      "Epoch 57/100\n",
      "240/240 [==============================] - 0s 1ms/step - loss: 26.5745\n",
      "Epoch 58/100\n",
      "240/240 [==============================] - 0s 1ms/step - loss: 26.3767\n",
      "Epoch 59/100\n",
      "240/240 [==============================] - 0s 1ms/step - loss: 26.2108\n",
      "Epoch 60/100\n",
      "240/240 [==============================] - 0s 1ms/step - loss: 26.1335\n",
      "Epoch 61/100\n",
      "240/240 [==============================] - 0s 1ms/step - loss: 26.5661\n",
      "Epoch 62/100\n",
      "240/240 [==============================] - 0s 1ms/step - loss: 26.4182\n",
      "Epoch 63/100\n",
      "240/240 [==============================] - 0s 1ms/step - loss: 26.6931\n",
      "Epoch 64/100\n",
      "240/240 [==============================] - 0s 1ms/step - loss: 26.2579\n",
      "Epoch 65/100\n",
      "240/240 [==============================] - 0s 982us/step - loss: 26.2156\n",
      "Epoch 66/100\n",
      "240/240 [==============================] - 0s 1ms/step - loss: 26.5667\n",
      "Epoch 67/100\n",
      "240/240 [==============================] - 0s 1ms/step - loss: 26.2157\n",
      "Epoch 68/100\n",
      "240/240 [==============================] - 0s 1ms/step - loss: 26.2614\n",
      "Epoch 69/100\n",
      "240/240 [==============================] - 0s 1ms/step - loss: 26.4920\n",
      "Epoch 70/100\n",
      "240/240 [==============================] - 0s 1ms/step - loss: 26.2716\n",
      "Epoch 71/100\n",
      "240/240 [==============================] - 0s 1ms/step - loss: 26.0655\n",
      "Epoch 72/100\n",
      "240/240 [==============================] - 0s 1ms/step - loss: 26.4672\n",
      "Epoch 73/100\n",
      "240/240 [==============================] - 0s 1ms/step - loss: 26.3056\n",
      "Epoch 74/100\n",
      "240/240 [==============================] - 0s 1ms/step - loss: 26.2714\n",
      "Epoch 75/100\n",
      "240/240 [==============================] - 0s 1ms/step - loss: 26.2503\n",
      "Epoch 76/100\n",
      "240/240 [==============================] - 0s 1ms/step - loss: 25.8537\n",
      "Epoch 77/100\n",
      "240/240 [==============================] - 0s 1ms/step - loss: 26.3004\n",
      "Epoch 78/100\n",
      "240/240 [==============================] - 0s 1ms/step - loss: 25.9978\n",
      "Epoch 79/100\n",
      "240/240 [==============================] - 0s 1ms/step - loss: 26.2478\n",
      "Epoch 80/100\n",
      "240/240 [==============================] - 0s 1ms/step - loss: 26.4797\n",
      "Epoch 81/100\n",
      "240/240 [==============================] - 0s 1ms/step - loss: 26.2592\n",
      "Epoch 82/100\n",
      "240/240 [==============================] - 0s 1ms/step - loss: 26.3621\n",
      "Epoch 83/100\n",
      "240/240 [==============================] - 0s 1ms/step - loss: 26.4451\n",
      "Epoch 84/100\n",
      "240/240 [==============================] - 0s 1ms/step - loss: 26.5278\n",
      "Epoch 85/100\n",
      "240/240 [==============================] - 0s 1ms/step - loss: 25.8854\n",
      "Epoch 86/100\n",
      "240/240 [==============================] - 0s 1ms/step - loss: 26.0851\n",
      "Epoch 87/100\n",
      "240/240 [==============================] - 0s 1ms/step - loss: 26.1298\n",
      "Epoch 88/100\n",
      "240/240 [==============================] - 0s 1ms/step - loss: 25.9552\n",
      "Epoch 89/100\n",
      "240/240 [==============================] - 0s 1ms/step - loss: 26.4746\n",
      "Epoch 90/100\n",
      "240/240 [==============================] - 0s 1ms/step - loss: 26.6223\n",
      "Epoch 91/100\n",
      "240/240 [==============================] - 0s 1ms/step - loss: 26.8338\n",
      "Epoch 92/100\n",
      "240/240 [==============================] - 0s 1ms/step - loss: 26.3298\n",
      "Epoch 93/100\n",
      "240/240 [==============================] - 0s 1ms/step - loss: 26.0973\n",
      "Epoch 94/100\n",
      "240/240 [==============================] - 0s 1ms/step - loss: 26.0725\n",
      "Epoch 95/100\n",
      "240/240 [==============================] - 0s 1ms/step - loss: 26.5083\n",
      "Epoch 96/100\n",
      "240/240 [==============================] - 0s 1ms/step - loss: 26.1043\n",
      "Epoch 97/100\n",
      "240/240 [==============================] - 0s 1ms/step - loss: 26.4089\n",
      "Epoch 98/100\n",
      "240/240 [==============================] - 0s 1ms/step - loss: 26.4398\n",
      "Epoch 99/100\n",
      "240/240 [==============================] - 0s 1ms/step - loss: 26.3376\n",
      "Epoch 100/100\n",
      "240/240 [==============================] - 0s 1ms/step - loss: 26.0108\n"
     ]
    },
    {
     "data": {
      "text/plain": "<keras.callbacks.History at 0x1e75043bd00>"
     },
     "execution_count": 13,
     "metadata": {},
     "output_type": "execute_result"
    }
   ],
   "source": [
    "ann.fit(x_train, y_train, batch_size=32, epochs=100)"
   ],
   "metadata": {
    "collapsed": false,
    "pycharm": {
     "name": "#%%\n"
    }
   }
  },
  {
   "cell_type": "code",
   "execution_count": 14,
   "outputs": [
    {
     "data": {
      "text/plain": "array([[430.38458252, 431.23      ],\n       [461.98184204, 460.01      ],\n       [464.83718872, 461.14      ],\n       ...,\n       [472.87893677, 473.26      ],\n       [439.33758545, 438.        ],\n       [458.79946899, 463.28      ]])"
     },
     "execution_count": 14,
     "metadata": {},
     "output_type": "execute_result"
    }
   ],
   "source": [
    "y_predict = ann.predict(x_test)\n",
    "np.concatenate((y_predict.reshape(len(y_predict),1),y_test.reshape(len(y_test),1)),1)"
   ],
   "metadata": {
    "collapsed": false,
    "pycharm": {
     "name": "#%%\n"
    }
   }
  },
  {
   "cell_type": "code",
   "execution_count": 30,
   "outputs": [
    {
     "data": {
      "text/plain": "array([[471.38623]], dtype=float32)"
     },
     "execution_count": 30,
     "metadata": {},
     "output_type": "execute_result"
    }
   ],
   "source": [
    "ann.predict([[15,41,1025,70]])"
   ],
   "metadata": {
    "collapsed": false,
    "pycharm": {
     "name": "#%%\n"
    }
   }
  },
  {
   "cell_type": "code",
   "execution_count": null,
   "outputs": [],
   "source": [],
   "metadata": {
    "collapsed": false,
    "pycharm": {
     "name": "#%%\n"
    }
   }
  }
 ],
 "metadata": {
  "kernelspec": {
   "display_name": "Python 3",
   "language": "python",
   "name": "python3"
  },
  "language_info": {
   "codemirror_mode": {
    "name": "ipython",
    "version": 3
   },
   "file_extension": ".py",
   "mimetype": "text/x-python",
   "name": "python",
   "nbconvert_exporter": "python",
   "pygments_lexer": "ipython3",
   "version": "3.10.0"
  }
 },
 "nbformat": 4,
 "nbformat_minor": 0
}