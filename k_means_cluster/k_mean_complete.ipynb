{
 "cells": [
  {
   "cell_type": "markdown",
   "source": [
    "***this is complete implementation the previous one is just two independent variable***"
   ],
   "metadata": {
    "collapsed": false
   }
  },
  {
   "cell_type": "code",
   "execution_count": 11,
   "metadata": {
    "collapsed": true
   },
   "outputs": [],
   "source": [
    "import matplotlib.pyplot as plt\n",
    "import numpy as np\n",
    "import pandas as pd"
   ]
  },
  {
   "cell_type": "code",
   "execution_count": 12,
   "outputs": [
    {
     "data": {
      "text/plain": "array([['Male', 19, 15, 39],\n       ['Male', 21, 15, 81],\n       ['Female', 20, 16, 6],\n       ['Female', 23, 16, 77],\n       ['Female', 31, 17, 40],\n       ['Female', 22, 17, 76],\n       ['Female', 35, 18, 6],\n       ['Female', 23, 18, 94],\n       ['Male', 64, 19, 3],\n       ['Female', 30, 19, 72],\n       ['Male', 67, 19, 14],\n       ['Female', 35, 19, 99],\n       ['Female', 58, 20, 15],\n       ['Female', 24, 20, 77],\n       ['Male', 37, 20, 13],\n       ['Male', 22, 20, 79],\n       ['Female', 35, 21, 35],\n       ['Male', 20, 21, 66],\n       ['Male', 52, 23, 29],\n       ['Female', 35, 23, 98],\n       ['Male', 35, 24, 35],\n       ['Male', 25, 24, 73],\n       ['Female', 46, 25, 5],\n       ['Male', 31, 25, 73],\n       ['Female', 54, 28, 14],\n       ['Male', 29, 28, 82],\n       ['Female', 45, 28, 32],\n       ['Male', 35, 28, 61],\n       ['Female', 40, 29, 31],\n       ['Female', 23, 29, 87],\n       ['Male', 60, 30, 4],\n       ['Female', 21, 30, 73],\n       ['Male', 53, 33, 4],\n       ['Male', 18, 33, 92],\n       ['Female', 49, 33, 14],\n       ['Female', 21, 33, 81],\n       ['Female', 42, 34, 17],\n       ['Female', 30, 34, 73],\n       ['Female', 36, 37, 26],\n       ['Female', 20, 37, 75],\n       ['Female', 65, 38, 35],\n       ['Male', 24, 38, 92],\n       ['Male', 48, 39, 36],\n       ['Female', 31, 39, 61],\n       ['Female', 49, 39, 28],\n       ['Female', 24, 39, 65],\n       ['Female', 50, 40, 55],\n       ['Female', 27, 40, 47],\n       ['Female', 29, 40, 42],\n       ['Female', 31, 40, 42],\n       ['Female', 49, 42, 52],\n       ['Male', 33, 42, 60],\n       ['Female', 31, 43, 54],\n       ['Male', 59, 43, 60],\n       ['Female', 50, 43, 45],\n       ['Male', 47, 43, 41],\n       ['Female', 51, 44, 50],\n       ['Male', 69, 44, 46],\n       ['Female', 27, 46, 51],\n       ['Male', 53, 46, 46],\n       ['Male', 70, 46, 56],\n       ['Male', 19, 46, 55],\n       ['Female', 67, 47, 52],\n       ['Female', 54, 47, 59],\n       ['Male', 63, 48, 51],\n       ['Male', 18, 48, 59],\n       ['Female', 43, 48, 50],\n       ['Female', 68, 48, 48],\n       ['Male', 19, 48, 59],\n       ['Female', 32, 48, 47],\n       ['Male', 70, 49, 55],\n       ['Female', 47, 49, 42],\n       ['Female', 60, 50, 49],\n       ['Female', 60, 50, 56],\n       ['Male', 59, 54, 47],\n       ['Male', 26, 54, 54],\n       ['Female', 45, 54, 53],\n       ['Male', 40, 54, 48],\n       ['Female', 23, 54, 52],\n       ['Female', 49, 54, 42],\n       ['Male', 57, 54, 51],\n       ['Male', 38, 54, 55],\n       ['Male', 67, 54, 41],\n       ['Female', 46, 54, 44],\n       ['Female', 21, 54, 57],\n       ['Male', 48, 54, 46],\n       ['Female', 55, 57, 58],\n       ['Female', 22, 57, 55],\n       ['Female', 34, 58, 60],\n       ['Female', 50, 58, 46],\n       ['Female', 68, 59, 55],\n       ['Male', 18, 59, 41],\n       ['Male', 48, 60, 49],\n       ['Female', 40, 60, 40],\n       ['Female', 32, 60, 42],\n       ['Male', 24, 60, 52],\n       ['Female', 47, 60, 47],\n       ['Female', 27, 60, 50],\n       ['Male', 48, 61, 42],\n       ['Male', 20, 61, 49],\n       ['Female', 23, 62, 41],\n       ['Female', 49, 62, 48],\n       ['Male', 67, 62, 59],\n       ['Male', 26, 62, 55],\n       ['Male', 49, 62, 56],\n       ['Female', 21, 62, 42],\n       ['Female', 66, 63, 50],\n       ['Male', 54, 63, 46],\n       ['Male', 68, 63, 43],\n       ['Male', 66, 63, 48],\n       ['Male', 65, 63, 52],\n       ['Female', 19, 63, 54],\n       ['Female', 38, 64, 42],\n       ['Male', 19, 64, 46],\n       ['Female', 18, 65, 48],\n       ['Female', 19, 65, 50],\n       ['Female', 63, 65, 43],\n       ['Female', 49, 65, 59],\n       ['Female', 51, 67, 43],\n       ['Female', 50, 67, 57],\n       ['Male', 27, 67, 56],\n       ['Female', 38, 67, 40],\n       ['Female', 40, 69, 58],\n       ['Male', 39, 69, 91],\n       ['Female', 23, 70, 29],\n       ['Female', 31, 70, 77],\n       ['Male', 43, 71, 35],\n       ['Male', 40, 71, 95],\n       ['Male', 59, 71, 11],\n       ['Male', 38, 71, 75],\n       ['Male', 47, 71, 9],\n       ['Male', 39, 71, 75],\n       ['Female', 25, 72, 34],\n       ['Female', 31, 72, 71],\n       ['Male', 20, 73, 5],\n       ['Female', 29, 73, 88],\n       ['Female', 44, 73, 7],\n       ['Male', 32, 73, 73],\n       ['Male', 19, 74, 10],\n       ['Female', 35, 74, 72],\n       ['Female', 57, 75, 5],\n       ['Male', 32, 75, 93],\n       ['Female', 28, 76, 40],\n       ['Female', 32, 76, 87],\n       ['Male', 25, 77, 12],\n       ['Male', 28, 77, 97],\n       ['Male', 48, 77, 36],\n       ['Female', 32, 77, 74],\n       ['Female', 34, 78, 22],\n       ['Male', 34, 78, 90],\n       ['Male', 43, 78, 17],\n       ['Male', 39, 78, 88],\n       ['Female', 44, 78, 20],\n       ['Female', 38, 78, 76],\n       ['Female', 47, 78, 16],\n       ['Female', 27, 78, 89],\n       ['Male', 37, 78, 1],\n       ['Female', 30, 78, 78],\n       ['Male', 34, 78, 1],\n       ['Female', 30, 78, 73],\n       ['Female', 56, 79, 35],\n       ['Female', 29, 79, 83],\n       ['Male', 19, 81, 5],\n       ['Female', 31, 81, 93],\n       ['Male', 50, 85, 26],\n       ['Female', 36, 85, 75],\n       ['Male', 42, 86, 20],\n       ['Female', 33, 86, 95],\n       ['Female', 36, 87, 27],\n       ['Male', 32, 87, 63],\n       ['Male', 40, 87, 13],\n       ['Male', 28, 87, 75],\n       ['Male', 36, 87, 10],\n       ['Male', 36, 87, 92],\n       ['Female', 52, 88, 13],\n       ['Female', 30, 88, 86],\n       ['Male', 58, 88, 15],\n       ['Male', 27, 88, 69],\n       ['Male', 59, 93, 14],\n       ['Male', 35, 93, 90],\n       ['Female', 37, 97, 32],\n       ['Female', 32, 97, 86],\n       ['Male', 46, 98, 15],\n       ['Female', 29, 98, 88],\n       ['Female', 41, 99, 39],\n       ['Male', 30, 99, 97],\n       ['Female', 54, 101, 24],\n       ['Male', 28, 101, 68],\n       ['Female', 41, 103, 17],\n       ['Female', 36, 103, 85],\n       ['Female', 34, 103, 23],\n       ['Female', 32, 103, 69],\n       ['Male', 33, 113, 8],\n       ['Female', 38, 113, 91],\n       ['Female', 47, 120, 16],\n       ['Female', 35, 120, 79],\n       ['Female', 45, 126, 28],\n       ['Male', 32, 126, 74],\n       ['Male', 32, 137, 18],\n       ['Male', 30, 137, 83]], dtype=object)"
     },
     "execution_count": 12,
     "metadata": {},
     "output_type": "execute_result"
    }
   ],
   "source": [
    "dataset = pd.read_csv('Mall_Customers.csv')\n",
    "x=dataset.iloc[:, 1:].values\n",
    "x"
   ],
   "metadata": {
    "collapsed": false,
    "pycharm": {
     "name": "#%%\n"
    }
   }
  },
  {
   "cell_type": "code",
   "execution_count": 13,
   "outputs": [
    {
     "data": {
      "text/plain": "array([[1, 19, 15, 39],\n       [1, 21, 15, 81],\n       [0, 20, 16, 6],\n       [0, 23, 16, 77],\n       [0, 31, 17, 40],\n       [0, 22, 17, 76],\n       [0, 35, 18, 6],\n       [0, 23, 18, 94],\n       [1, 64, 19, 3],\n       [0, 30, 19, 72],\n       [1, 67, 19, 14],\n       [0, 35, 19, 99],\n       [0, 58, 20, 15],\n       [0, 24, 20, 77],\n       [1, 37, 20, 13],\n       [1, 22, 20, 79],\n       [0, 35, 21, 35],\n       [1, 20, 21, 66],\n       [1, 52, 23, 29],\n       [0, 35, 23, 98],\n       [1, 35, 24, 35],\n       [1, 25, 24, 73],\n       [0, 46, 25, 5],\n       [1, 31, 25, 73],\n       [0, 54, 28, 14],\n       [1, 29, 28, 82],\n       [0, 45, 28, 32],\n       [1, 35, 28, 61],\n       [0, 40, 29, 31],\n       [0, 23, 29, 87],\n       [1, 60, 30, 4],\n       [0, 21, 30, 73],\n       [1, 53, 33, 4],\n       [1, 18, 33, 92],\n       [0, 49, 33, 14],\n       [0, 21, 33, 81],\n       [0, 42, 34, 17],\n       [0, 30, 34, 73],\n       [0, 36, 37, 26],\n       [0, 20, 37, 75],\n       [0, 65, 38, 35],\n       [1, 24, 38, 92],\n       [1, 48, 39, 36],\n       [0, 31, 39, 61],\n       [0, 49, 39, 28],\n       [0, 24, 39, 65],\n       [0, 50, 40, 55],\n       [0, 27, 40, 47],\n       [0, 29, 40, 42],\n       [0, 31, 40, 42],\n       [0, 49, 42, 52],\n       [1, 33, 42, 60],\n       [0, 31, 43, 54],\n       [1, 59, 43, 60],\n       [0, 50, 43, 45],\n       [1, 47, 43, 41],\n       [0, 51, 44, 50],\n       [1, 69, 44, 46],\n       [0, 27, 46, 51],\n       [1, 53, 46, 46],\n       [1, 70, 46, 56],\n       [1, 19, 46, 55],\n       [0, 67, 47, 52],\n       [0, 54, 47, 59],\n       [1, 63, 48, 51],\n       [1, 18, 48, 59],\n       [0, 43, 48, 50],\n       [0, 68, 48, 48],\n       [1, 19, 48, 59],\n       [0, 32, 48, 47],\n       [1, 70, 49, 55],\n       [0, 47, 49, 42],\n       [0, 60, 50, 49],\n       [0, 60, 50, 56],\n       [1, 59, 54, 47],\n       [1, 26, 54, 54],\n       [0, 45, 54, 53],\n       [1, 40, 54, 48],\n       [0, 23, 54, 52],\n       [0, 49, 54, 42],\n       [1, 57, 54, 51],\n       [1, 38, 54, 55],\n       [1, 67, 54, 41],\n       [0, 46, 54, 44],\n       [0, 21, 54, 57],\n       [1, 48, 54, 46],\n       [0, 55, 57, 58],\n       [0, 22, 57, 55],\n       [0, 34, 58, 60],\n       [0, 50, 58, 46],\n       [0, 68, 59, 55],\n       [1, 18, 59, 41],\n       [1, 48, 60, 49],\n       [0, 40, 60, 40],\n       [0, 32, 60, 42],\n       [1, 24, 60, 52],\n       [0, 47, 60, 47],\n       [0, 27, 60, 50],\n       [1, 48, 61, 42],\n       [1, 20, 61, 49],\n       [0, 23, 62, 41],\n       [0, 49, 62, 48],\n       [1, 67, 62, 59],\n       [1, 26, 62, 55],\n       [1, 49, 62, 56],\n       [0, 21, 62, 42],\n       [0, 66, 63, 50],\n       [1, 54, 63, 46],\n       [1, 68, 63, 43],\n       [1, 66, 63, 48],\n       [1, 65, 63, 52],\n       [0, 19, 63, 54],\n       [0, 38, 64, 42],\n       [1, 19, 64, 46],\n       [0, 18, 65, 48],\n       [0, 19, 65, 50],\n       [0, 63, 65, 43],\n       [0, 49, 65, 59],\n       [0, 51, 67, 43],\n       [0, 50, 67, 57],\n       [1, 27, 67, 56],\n       [0, 38, 67, 40],\n       [0, 40, 69, 58],\n       [1, 39, 69, 91],\n       [0, 23, 70, 29],\n       [0, 31, 70, 77],\n       [1, 43, 71, 35],\n       [1, 40, 71, 95],\n       [1, 59, 71, 11],\n       [1, 38, 71, 75],\n       [1, 47, 71, 9],\n       [1, 39, 71, 75],\n       [0, 25, 72, 34],\n       [0, 31, 72, 71],\n       [1, 20, 73, 5],\n       [0, 29, 73, 88],\n       [0, 44, 73, 7],\n       [1, 32, 73, 73],\n       [1, 19, 74, 10],\n       [0, 35, 74, 72],\n       [0, 57, 75, 5],\n       [1, 32, 75, 93],\n       [0, 28, 76, 40],\n       [0, 32, 76, 87],\n       [1, 25, 77, 12],\n       [1, 28, 77, 97],\n       [1, 48, 77, 36],\n       [0, 32, 77, 74],\n       [0, 34, 78, 22],\n       [1, 34, 78, 90],\n       [1, 43, 78, 17],\n       [1, 39, 78, 88],\n       [0, 44, 78, 20],\n       [0, 38, 78, 76],\n       [0, 47, 78, 16],\n       [0, 27, 78, 89],\n       [1, 37, 78, 1],\n       [0, 30, 78, 78],\n       [1, 34, 78, 1],\n       [0, 30, 78, 73],\n       [0, 56, 79, 35],\n       [0, 29, 79, 83],\n       [1, 19, 81, 5],\n       [0, 31, 81, 93],\n       [1, 50, 85, 26],\n       [0, 36, 85, 75],\n       [1, 42, 86, 20],\n       [0, 33, 86, 95],\n       [0, 36, 87, 27],\n       [1, 32, 87, 63],\n       [1, 40, 87, 13],\n       [1, 28, 87, 75],\n       [1, 36, 87, 10],\n       [1, 36, 87, 92],\n       [0, 52, 88, 13],\n       [0, 30, 88, 86],\n       [1, 58, 88, 15],\n       [1, 27, 88, 69],\n       [1, 59, 93, 14],\n       [1, 35, 93, 90],\n       [0, 37, 97, 32],\n       [0, 32, 97, 86],\n       [1, 46, 98, 15],\n       [0, 29, 98, 88],\n       [0, 41, 99, 39],\n       [1, 30, 99, 97],\n       [0, 54, 101, 24],\n       [1, 28, 101, 68],\n       [0, 41, 103, 17],\n       [0, 36, 103, 85],\n       [0, 34, 103, 23],\n       [0, 32, 103, 69],\n       [1, 33, 113, 8],\n       [0, 38, 113, 91],\n       [0, 47, 120, 16],\n       [0, 35, 120, 79],\n       [0, 45, 126, 28],\n       [1, 32, 126, 74],\n       [1, 32, 137, 18],\n       [1, 30, 137, 83]], dtype=object)"
     },
     "execution_count": 13,
     "metadata": {},
     "output_type": "execute_result"
    }
   ],
   "source": [
    "from sklearn.preprocessing import LabelEncoder\n",
    "le = LabelEncoder()\n",
    "x[:,0]=le.fit_transform(x[:,0])\n",
    "x"
   ],
   "metadata": {
    "collapsed": false,
    "pycharm": {
     "name": "#%%\n"
    }
   }
  },
  {
   "cell_type": "code",
   "execution_count": 14,
   "outputs": [
    {
     "name": "stderr",
     "output_type": "stream",
     "text": [
      "C:\\Users\\dheer\\anaconda3\\lib\\site-packages\\sklearn\\cluster\\_kmeans.py:881: UserWarning: KMeans is known to have a memory leak on Windows with MKL, when there are less chunks than available threads. You can avoid it by setting the environment variable OMP_NUM_THREADS=1.\n",
      "  warnings.warn(\n"
     ]
    },
    {
     "data": {
      "text/plain": "<Figure size 432x288 with 1 Axes>",
      "image/png": "[encoded data removed]"
     },
     "metadata": {
      "needs_background": "light"
     },
     "output_type": "display_data"
    }
   ],
   "source": [
    "from sklearn.cluster import KMeans\n",
    "wcss=[]\n",
    "\n",
    "for i in range(1,11):\n",
    "    kmeans=KMeans(n_clusters=i,init='k-means++',random_state=0)\n",
    "    kmeans.fit(x)\n",
    "    wcss.append(kmeans.inertia_)\n",
    "plt.plot(range(1,11), wcss)\n",
    "plt.show()"
   ],
   "metadata": {
    "collapsed": false,
    "pycharm": {
     "name": "#%%\n"
    }
   }
  },
  {
   "cell_type": "code",
   "execution_count": 15,
   "outputs": [
    {
     "data": {
      "text/plain": "KMeans(n_clusters=6, random_state=0)"
     },
     "execution_count": 15,
     "metadata": {},
     "output_type": "execute_result"
    }
   ],
   "source": [
    "k_means = KMeans(n_clusters=6, init='k-means++',random_state=0)\n",
    "k_means.fit(x)"
   ],
   "metadata": {
    "collapsed": false,
    "pycharm": {
     "name": "#%%\n"
    }
   }
  },
  {
   "cell_type": "code",
   "execution_count": 16,
   "outputs": [
    {
     "data": {
      "text/plain": "array([5, 4, 5, 4, 5, 4, 5, 4, 5, 4, 5, 4, 5, 4, 5, 4, 5, 4, 5, 4, 5, 4,\n       5, 4, 5, 4, 5, 4, 5, 4, 5, 4, 5, 4, 5, 4, 5, 4, 5, 4, 1, 4, 1, 0,\n       5, 4, 1, 0, 0, 0, 1, 0, 0, 1, 1, 1, 1, 1, 0, 1, 1, 0, 1, 1, 1, 0,\n       1, 1, 0, 0, 1, 1, 1, 1, 1, 0, 1, 0, 0, 1, 1, 0, 1, 1, 0, 1, 1, 0,\n       0, 1, 1, 0, 1, 0, 0, 0, 1, 0, 1, 0, 0, 1, 1, 0, 1, 0, 1, 1, 1, 1,\n       1, 0, 0, 0, 0, 0, 1, 1, 1, 1, 0, 0, 0, 3, 0, 3, 2, 3, 2, 3, 2, 3,\n       0, 3, 2, 3, 2, 3, 2, 3, 2, 3, 0, 3, 2, 3, 2, 3, 2, 3, 2, 3, 2, 3,\n       2, 3, 2, 3, 2, 3, 2, 3, 2, 3, 2, 3, 2, 3, 2, 3, 2, 3, 2, 3, 2, 3,\n       2, 3, 2, 3, 2, 3, 2, 3, 2, 3, 2, 3, 2, 3, 2, 3, 2, 3, 2, 3, 2, 3,\n       2, 3])"
     },
     "execution_count": 16,
     "metadata": {},
     "output_type": "execute_result"
    }
   ],
   "source": [
    "y_cluster = k_means.predict(x)\n",
    "y_cluster"
   ],
   "metadata": {
    "collapsed": false,
    "pycharm": {
     "name": "#%%\n"
    }
   }
  },
  {
   "cell_type": "code",
   "execution_count": 20,
   "outputs": [
    {
     "name": "stdout",
     "output_type": "stream",
     "text": [
      "type 1\n"
     ]
    },
    {
     "data": {
      "text/plain": "     CustomerID   Genre  Age  Annual Income (k$)  Spending Score (1-100)\n43           44  Female   31                  39                      61\n47           48  Female   27                  40                      47\n48           49  Female   29                  40                      42\n49           50  Female   31                  40                      42\n51           52    Male   33                  42                      60\n52           53  Female   31                  43                      54\n58           59  Female   27                  46                      51\n61           62    Male   19                  46                      55\n65           66    Male   18                  48                      59\n68           69    Male   19                  48                      59\n69           70  Female   32                  48                      47\n75           76    Male   26                  54                      54\n77           78    Male   40                  54                      48\n78           79  Female   23                  54                      52\n81           82    Male   38                  54                      55\n84           85  Female   21                  54                      57\n87           88  Female   22                  57                      55\n88           89  Female   34                  58                      60\n91           92    Male   18                  59                      41\n93           94  Female   40                  60                      40\n94           95  Female   32                  60                      42\n95           96    Male   24                  60                      52\n97           98  Female   27                  60                      50\n99          100    Male   20                  61                      49\n100         101  Female   23                  62                      41\n103         104    Male   26                  62                      55\n105         106  Female   21                  62                      42\n111         112  Female   19                  63                      54\n112         113  Female   38                  64                      42\n113         114    Male   19                  64                      46\n114         115  Female   18                  65                      48\n115         116  Female   19                  65                      50\n120         121    Male   27                  67                      56\n121         122  Female   38                  67                      40\n122         123  Female   40                  69                      58\n124         125  Female   23                  70                      29\n132         133  Female   25                  72                      34\n142         143  Female   28                  76                      40",
      "text/html": "<div>\n<style scoped>\n    .dataframe tbody tr th:only-of-type {\n        vertical-align: middle;\n    }\n\n    .dataframe tbody tr th {\n        vertical-align: top;\n    }\n\n    .dataframe thead th {\n        text-align: right;\n    }\n</style>\n<table border=\"1\" class=\"dataframe\">\n  <thead>\n    <tr style=\"text-align: right;\">\n      <th></th>\n      <th>CustomerID</th>\n      <th>Genre</th>\n      <th>Age</th>\n      <th>Annual Income (k$)</th>\n      <th>Spending Score (1-100)</th>\n    </tr>\n  </thead>\n  <tbody>\n    <tr>\n      <th>43</th>\n      <td>44</td>\n      <td>Female</td>\n      <td>31</td>\n      <td>39</td>\n      <td>61</td>\n    </tr>\n    <tr>\n      <th>47</th>\n      <td>48</td>\n      <td>Female</td>\n      <td>27</td>\n      <td>40</td>\n      <td>47</td>\n    </tr>\n    <tr>\n      <th>48</th>\n      <td>49</td>\n      <td>Female</td>\n      <td>29</td>\n      <td>40</td>\n      <td>42</td>\n    </tr>\n    <tr>\n      <th>49</th>\n      <td>50</td>\n      <td>Female</td>\n      <td>31</td>\n      <td>40</td>\n      <td>42</td>\n    </tr>\n    <tr>\n      <th>51</th>\n      <td>52</td>\n      <td>Male</td>\n      <td>33</td>\n      <td>42</td>\n      <td>60</td>\n    </tr>\n    <tr>\n      <th>52</th>\n      <td>53</td>\n      <td>Female</td>\n      <td>31</td>\n      <td>43</td>\n      <td>54</td>\n    </tr>\n    <tr>\n      <th>58</th>\n      <td>59</td>\n      <td>Female</td>\n      <td>27</td>\n      <td>46</td>\n      <td>51</td>\n    </tr>\n    <tr>\n      <th>61</th>\n      <td>62</td>\n      <td>Male</td>\n      <td>19</td>\n      <td>46</td>\n      <td>55</td>\n    </tr>\n    <tr>\n      <th>65</th>\n      <td>66</td>\n      <td>Male</td>\n      <td>18</td>\n      <td>48</td>\n      <td>59</td>\n    </tr>\n    <tr>\n      <th>68</th>\n      <td>69</td>\n      <td>Male</td>\n      <td>19</td>\n      <td>48</td>\n      <td>59</td>\n    </tr>\n    <tr>\n      <th>69</th>\n      <td>70</td>\n      <td>Female</td>\n      <td>32</td>\n      <td>48</td>\n      <td>47</td>\n    </tr>\n    <tr>\n      <th>75</th>\n      <td>76</td>\n      <td>Male</td>\n      <td>26</td>\n      <td>54</td>\n      <td>54</td>\n    </tr>\n    <tr>\n      <th>77</th>\n      <td>78</td>\n      <td>Male</td>\n      <td>40</td>\n      <td>54</td>\n      <td>48</td>\n    </tr>\n    <tr>\n      <th>78</th>\n      <td>79</td>\n      <td>Female</td>\n      <td>23</td>\n      <td>54</td>\n      <td>52</td>\n    </tr>\n    <tr>\n      <th>81</th>\n      <td>82</td>\n      <td>Male</td>\n      <td>38</td>\n      <td>54</td>\n      <td>55</td>\n    </tr>\n    <tr>\n      <th>84</th>\n      <td>85</td>\n      <td>Female</td>\n      <td>21</td>\n      <td>54</td>\n      <td>57</td>\n    </tr>\n    <tr>\n      <th>87</th>\n      <td>88</td>\n      <td>Female</td>\n      <td>22</td>\n      <td>57</td>\n      <td>55</td>\n    </tr>\n    <tr>\n      <th>88</th>\n      <td>89</td>\n      <td>Female</td>\n      <td>34</td>\n      <td>58</td>\n      <td>60</td>\n    </tr>\n    <tr>\n      <th>91</th>\n      <td>92</td>\n      <td>Male</td>\n      <td>18</td>\n      <td>59</td>\n      <td>41</td>\n    </tr>\n    <tr>\n      <th>93</th>\n      <td>94</td>\n      <td>Female</td>\n      <td>40</td>\n      <td>60</td>\n      <td>40</td>\n    </tr>\n    <tr>\n      <th>94</th>\n      <td>95</td>\n      <td>Female</td>\n      <td>32</td>\n      <td>60</td>\n      <td>42</td>\n    </tr>\n    <tr>\n      <th>95</th>\n      <td>96</td>\n      <td>Male</td>\n      <td>24</td>\n      <td>60</td>\n      <td>52</td>\n    </tr>\n    <tr>\n      <th>97</th>\n      <td>98</td>\n      <td>Female</td>\n      <td>27</td>\n      <td>60</td>\n      <td>50</td>\n    </tr>\n    <tr>\n      <th>99</th>\n      <td>100</td>\n      <td>Male</td>\n      <td>20</td>\n      <td>61</td>\n      <td>49</td>\n    </tr>\n    <tr>\n      <th>100</th>\n      <td>101</td>\n      <td>Female</td>\n      <td>23</td>\n      <td>62</td>\n      <td>41</td>\n    </tr>\n    <tr>\n      <th>103</th>\n      <td>104</td>\n      <td>Male</td>\n      <td>26</td>\n      <td>62</td>\n      <td>55</td>\n    </tr>\n    <tr>\n      <th>105</th>\n      <td>106</td>\n      <td>Female</td>\n      <td>21</td>\n      <td>62</td>\n      <td>42</td>\n    </tr>\n    <tr>\n      <th>111</th>\n      <td>112</td>\n      <td>Female</td>\n      <td>19</td>\n      <td>63</td>\n      <td>54</td>\n    </tr>\n    <tr>\n      <th>112</th>\n      <td>113</td>\n      <td>Female</td>\n      <td>38</td>\n      <td>64</td>\n      <td>42</td>\n    </tr>\n    <tr>\n      <th>113</th>\n      <td>114</td>\n      <td>Male</td>\n      <td>19</td>\n      <td>64</td>\n      <td>46</td>\n    </tr>\n    <tr>\n      <th>114</th>\n      <td>115</td>\n      <td>Female</td>\n      <td>18</td>\n      <td>65</td>\n      <td>48</td>\n    </tr>\n    <tr>\n      <th>115</th>\n      <td>116</td>\n      <td>Female</td>\n      <td>19</td>\n      <td>65</td>\n      <td>50</td>\n    </tr>\n    <tr>\n      <th>120</th>\n      <td>121</td>\n      <td>Male</td>\n      <td>27</td>\n      <td>67</td>\n      <td>56</td>\n    </tr>\n    <tr>\n      <th>121</th>\n      <td>122</td>\n      <td>Female</td>\n      <td>38</td>\n      <td>67</td>\n      <td>40</td>\n    </tr>\n    <tr>\n      <th>122</th>\n      <td>123</td>\n      <td>Female</td>\n      <td>40</td>\n      <td>69</td>\n      <td>58</td>\n    </tr>\n    <tr>\n      <th>124</th>\n      <td>125</td>\n      <td>Female</td>\n      <td>23</td>\n      <td>70</td>\n      <td>29</td>\n    </tr>\n    <tr>\n      <th>132</th>\n      <td>133</td>\n      <td>Female</td>\n      <td>25</td>\n      <td>72</td>\n      <td>34</td>\n    </tr>\n    <tr>\n      <th>142</th>\n      <td>143</td>\n      <td>Female</td>\n      <td>28</td>\n      <td>76</td>\n      <td>40</td>\n    </tr>\n  </tbody>\n</table>\n</div>"
     },
     "execution_count": 20,
     "metadata": {},
     "output_type": "execute_result"
    }
   ],
   "source": [
    "print(\"type 1\")\n",
    "type_1 = dataset[y_cluster==0]\n",
    "type_1"
   ],
   "metadata": {
    "collapsed": false,
    "pycharm": {
     "name": "#%%\n"
    }
   }
  },
  {
   "cell_type": "code",
   "execution_count": 21,
   "outputs": [
    {
     "name": "stdout",
     "output_type": "stream",
     "text": [
      "type 2\n"
     ]
    },
    {
     "data": {
      "text/plain": "     CustomerID   Genre  Age  Annual Income (k$)  Spending Score (1-100)\n40           41  Female   65                  38                      35\n42           43    Male   48                  39                      36\n46           47  Female   50                  40                      55\n50           51  Female   49                  42                      52\n53           54    Male   59                  43                      60\n54           55  Female   50                  43                      45\n55           56    Male   47                  43                      41\n56           57  Female   51                  44                      50\n57           58    Male   69                  44                      46\n59           60    Male   53                  46                      46\n60           61    Male   70                  46                      56\n62           63  Female   67                  47                      52\n63           64  Female   54                  47                      59\n64           65    Male   63                  48                      51\n66           67  Female   43                  48                      50\n67           68  Female   68                  48                      48\n70           71    Male   70                  49                      55\n71           72  Female   47                  49                      42\n72           73  Female   60                  50                      49\n73           74  Female   60                  50                      56\n74           75    Male   59                  54                      47\n76           77  Female   45                  54                      53\n79           80  Female   49                  54                      42\n80           81    Male   57                  54                      51\n82           83    Male   67                  54                      41\n83           84  Female   46                  54                      44\n85           86    Male   48                  54                      46\n86           87  Female   55                  57                      58\n89           90  Female   50                  58                      46\n90           91  Female   68                  59                      55\n92           93    Male   48                  60                      49\n96           97  Female   47                  60                      47\n98           99    Male   48                  61                      42\n101         102  Female   49                  62                      48\n102         103    Male   67                  62                      59\n104         105    Male   49                  62                      56\n106         107  Female   66                  63                      50\n107         108    Male   54                  63                      46\n108         109    Male   68                  63                      43\n109         110    Male   66                  63                      48\n110         111    Male   65                  63                      52\n116         117  Female   63                  65                      43\n117         118  Female   49                  65                      59\n118         119  Female   51                  67                      43\n119         120  Female   50                  67                      57",
      "text/html": "<div>\n<style scoped>\n    .dataframe tbody tr th:only-of-type {\n        vertical-align: middle;\n    }\n\n    .dataframe tbody tr th {\n        vertical-align: top;\n    }\n\n    .dataframe thead th {\n        text-align: right;\n    }\n</style>\n<table border=\"1\" class=\"dataframe\">\n  <thead>\n    <tr style=\"text-align: right;\">\n      <th></th>\n      <th>CustomerID</th>\n      <th>Genre</th>\n      <th>Age</th>\n      <th>Annual Income (k$)</th>\n      <th>Spending Score (1-100)</th>\n    </tr>\n  </thead>\n  <tbody>\n    <tr>\n      <th>40</th>\n      <td>41</td>\n      <td>Female</td>\n      <td>65</td>\n      <td>38</td>\n      <td>35</td>\n    </tr>\n    <tr>\n      <th>42</th>\n      <td>43</td>\n      <td>Male</td>\n      <td>48</td>\n      <td>39</td>\n      <td>36</td>\n    </tr>\n    <tr>\n      <th>46</th>\n      <td>47</td>\n      <td>Female</td>\n      <td>50</td>\n      <td>40</td>\n      <td>55</td>\n    </tr>\n    <tr>\n      <th>50</th>\n      <td>51</td>\n      <td>Female</td>\n      <td>49</td>\n      <td>42</td>\n      <td>52</td>\n    </tr>\n    <tr>\n      <th>53</th>\n      <td>54</td>\n      <td>Male</td>\n      <td>59</td>\n      <td>43</td>\n      <td>60</td>\n    </tr>\n    <tr>\n      <th>54</th>\n      <td>55</td>\n      <td>Female</td>\n      <td>50</td>\n      <td>43</td>\n      <td>45</td>\n    </tr>\n    <tr>\n      <th>55</th>\n      <td>56</td>\n      <td>Male</td>\n      <td>47</td>\n      <td>43</td>\n      <td>41</td>\n    </tr>\n    <tr>\n      <th>56</th>\n      <td>57</td>\n      <td>Female</td>\n      <td>51</td>\n      <td>44</td>\n      <td>50</td>\n    </tr>\n    <tr>\n      <th>57</th>\n      <td>58</td>\n      <td>Male</td>\n      <td>69</td>\n      <td>44</td>\n      <td>46</td>\n    </tr>\n    <tr>\n      <th>59</th>\n      <td>60</td>\n      <td>Male</td>\n      <td>53</td>\n      <td>46</td>\n      <td>46</td>\n    </tr>\n    <tr>\n      <th>60</th>\n      <td>61</td>\n      <td>Male</td>\n      <td>70</td>\n      <td>46</td>\n      <td>56</td>\n    </tr>\n    <tr>\n      <th>62</th>\n      <td>63</td>\n      <td>Female</td>\n      <td>67</td>\n      <td>47</td>\n      <td>52</td>\n    </tr>\n    <tr>\n      <th>63</th>\n      <td>64</td>\n      <td>Female</td>\n      <td>54</td>\n      <td>47</td>\n      <td>59</td>\n    </tr>\n    <tr>\n      <th>64</th>\n      <td>65</td>\n      <td>Male</td>\n      <td>63</td>\n      <td>48</td>\n      <td>51</td>\n    </tr>\n    <tr>\n      <th>66</th>\n      <td>67</td>\n      <td>Female</td>\n      <td>43</td>\n      <td>48</td>\n      <td>50</td>\n    </tr>\n    <tr>\n      <th>67</th>\n      <td>68</td>\n      <td>Female</td>\n      <td>68</td>\n      <td>48</td>\n      <td>48</td>\n    </tr>\n    <tr>\n      <th>70</th>\n      <td>71</td>\n      <td>Male</td>\n      <td>70</td>\n      <td>49</td>\n      <td>55</td>\n    </tr>\n    <tr>\n      <th>71</th>\n      <td>72</td>\n      <td>Female</td>\n      <td>47</td>\n      <td>49</td>\n      <td>42</td>\n    </tr>\n    <tr>\n      <th>72</th>\n      <td>73</td>\n      <td>Female</td>\n      <td>60</td>\n      <td>50</td>\n      <td>49</td>\n    </tr>\n    <tr>\n      <th>73</th>\n      <td>74</td>\n      <td>Female</td>\n      <td>60</td>\n      <td>50</td>\n      <td>56</td>\n    </tr>\n    <tr>\n      <th>74</th>\n      <td>75</td>\n      <td>Male</td>\n      <td>59</td>\n      <td>54</td>\n      <td>47</td>\n    </tr>\n    <tr>\n      <th>76</th>\n      <td>77</td>\n      <td>Female</td>\n      <td>45</td>\n      <td>54</td>\n      <td>53</td>\n    </tr>\n    <tr>\n      <th>79</th>\n      <td>80</td>\n      <td>Female</td>\n      <td>49</td>\n      <td>54</td>\n      <td>42</td>\n    </tr>\n    <tr>\n      <th>80</th>\n      <td>81</td>\n      <td>Male</td>\n      <td>57</td>\n      <td>54</td>\n      <td>51</td>\n    </tr>\n    <tr>\n      <th>82</th>\n      <td>83</td>\n      <td>Male</td>\n      <td>67</td>\n      <td>54</td>\n      <td>41</td>\n    </tr>\n    <tr>\n      <th>83</th>\n      <td>84</td>\n      <td>Female</td>\n      <td>46</td>\n      <td>54</td>\n      <td>44</td>\n    </tr>\n    <tr>\n      <th>85</th>\n      <td>86</td>\n      <td>Male</td>\n      <td>48</td>\n      <td>54</td>\n      <td>46</td>\n    </tr>\n    <tr>\n      <th>86</th>\n      <td>87</td>\n      <td>Female</td>\n      <td>55</td>\n      <td>57</td>\n      <td>58</td>\n    </tr>\n    <tr>\n      <th>89</th>\n      <td>90</td>\n      <td>Female</td>\n      <td>50</td>\n      <td>58</td>\n      <td>46</td>\n    </tr>\n    <tr>\n      <th>90</th>\n      <td>91</td>\n      <td>Female</td>\n      <td>68</td>\n      <td>59</td>\n      <td>55</td>\n    </tr>\n    <tr>\n      <th>92</th>\n      <td>93</td>\n      <td>Male</td>\n      <td>48</td>\n      <td>60</td>\n      <td>49</td>\n    </tr>\n    <tr>\n      <th>96</th>\n      <td>97</td>\n      <td>Female</td>\n      <td>47</td>\n      <td>60</td>\n      <td>47</td>\n    </tr>\n    <tr>\n      <th>98</th>\n      <td>99</td>\n      <td>Male</td>\n      <td>48</td>\n      <td>61</td>\n      <td>42</td>\n    </tr>\n    <tr>\n      <th>101</th>\n      <td>102</td>\n      <td>Female</td>\n      <td>49</td>\n      <td>62</td>\n      <td>48</td>\n    </tr>\n    <tr>\n      <th>102</th>\n      <td>103</td>\n      <td>Male</td>\n      <td>67</td>\n      <td>62</td>\n      <td>59</td>\n    </tr>\n    <tr>\n      <th>104</th>\n      <td>105</td>\n      <td>Male</td>\n      <td>49</td>\n      <td>62</td>\n      <td>56</td>\n    </tr>\n    <tr>\n      <th>106</th>\n      <td>107</td>\n      <td>Female</td>\n      <td>66</td>\n      <td>63</td>\n      <td>50</td>\n    </tr>\n    <tr>\n      <th>107</th>\n      <td>108</td>\n      <td>Male</td>\n      <td>54</td>\n      <td>63</td>\n      <td>46</td>\n    </tr>\n    <tr>\n      <th>108</th>\n      <td>109</td>\n      <td>Male</td>\n      <td>68</td>\n      <td>63</td>\n      <td>43</td>\n    </tr>\n    <tr>\n      <th>109</th>\n      <td>110</td>\n      <td>Male</td>\n      <td>66</td>\n      <td>63</td>\n      <td>48</td>\n    </tr>\n    <tr>\n      <th>110</th>\n      <td>111</td>\n      <td>Male</td>\n      <td>65</td>\n      <td>63</td>\n      <td>52</td>\n    </tr>\n    <tr>\n      <th>116</th>\n      <td>117</td>\n      <td>Female</td>\n      <td>63</td>\n      <td>65</td>\n      <td>43</td>\n    </tr>\n    <tr>\n      <th>117</th>\n      <td>118</td>\n      <td>Female</td>\n      <td>49</td>\n      <td>65</td>\n      <td>59</td>\n    </tr>\n    <tr>\n      <th>118</th>\n      <td>119</td>\n      <td>Female</td>\n      <td>51</td>\n      <td>67</td>\n      <td>43</td>\n    </tr>\n    <tr>\n      <th>119</th>\n      <td>120</td>\n      <td>Female</td>\n      <td>50</td>\n      <td>67</td>\n      <td>57</td>\n    </tr>\n  </tbody>\n</table>\n</div>"
     },
     "execution_count": 21,
     "metadata": {},
     "output_type": "execute_result"
    }
   ],
   "source": [
    "print(\"type 2\")\n",
    "type_2 = dataset[y_cluster==1]\n",
    "type_2"
   ],
   "metadata": {
    "collapsed": false,
    "pycharm": {
     "name": "#%%\n"
    }
   }
  },
  {
   "cell_type": "markdown",
   "source": [
    "similarly you can do this for remaining clusters"
   ],
   "metadata": {
    "collapsed": false
   }
  },
  {
   "cell_type": "code",
   "execution_count": null,
   "outputs": [],
   "source": [],
   "metadata": {
    "collapsed": false,
    "pycharm": {
     "name": "#%%\n"
    }
   }
  }
 ],
 "metadata": {
  "kernelspec": {
   "display_name": "Python 3",
   "language": "python",
   "name": "python3"
  },
  "language_info": {
   "codemirror_mode": {
    "name": "ipython",
    "version": 2
   },
   "file_extension": ".py",
   "mimetype": "text/x-python",
   "name": "python",
   "nbconvert_exporter": "python",
   "pygments_lexer": "ipython2",
   "version": "2.7.6"
  }
 },
 "nbformat": 4,
 "nbformat_minor": 0
}