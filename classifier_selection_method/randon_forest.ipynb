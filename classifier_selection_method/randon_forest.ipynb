{
 "cells": [
  {
   "cell_type": "code",
   "execution_count": 1,
   "metadata": {
    "collapsed": true
   },
   "outputs": [],
   "source": [
    "import numpy as np\n",
    "import pandas as pd"
   ]
  },
  {
   "cell_type": "code",
   "execution_count": 2,
   "outputs": [],
   "source": [
    "dataset = pd.read_csv('Data.csv')\n",
    "x=dataset.iloc[:,:-1].values\n",
    "y=dataset.iloc[:,-1].values"
   ],
   "metadata": {
    "collapsed": false,
    "pycharm": {
     "name": "#%%\n"
    }
   }
  },
  {
   "cell_type": "code",
   "execution_count": 3,
   "outputs": [],
   "source": [
    "from sklearn.model_selection import train_test_split\n",
    "x_train , x_test, y_train , y_test = train_test_split(x,y,test_size=0.2,random_state=0)"
   ],
   "metadata": {
    "collapsed": false,
    "pycharm": {
     "name": "#%%\n"
    }
   }
  },
  {
   "cell_type": "code",
   "execution_count": 4,
   "outputs": [],
   "source": [
    "from sklearn.preprocessing import StandardScaler\n",
    "scale = StandardScaler()\n",
    "x_train=scale.fit_transform(x_train)\n",
    "x_test=scale.transform(x_test)"
   ],
   "metadata": {
    "collapsed": false,
    "pycharm": {
     "name": "#%%\n"
    }
   }
  },
  {
   "cell_type": "code",
   "execution_count": 5,
   "outputs": [
    {
     "data": {
      "text/plain": "RandomForestClassifier(criterion='entropy', n_estimators=10, random_state=0)"
     },
     "execution_count": 5,
     "metadata": {},
     "output_type": "execute_result"
    }
   ],
   "source": [
    "from sklearn.ensemble import RandomForestClassifier\n",
    "classifer = RandomForestClassifier(n_estimators=10,criterion='entropy', random_state=0)\n",
    "classifer.fit(x_train, y_train)"
   ],
   "metadata": {
    "collapsed": false,
    "pycharm": {
     "name": "#%%\n"
    }
   }
  },
  {
   "cell_type": "code",
   "execution_count": 6,
   "outputs": [
    {
     "data": {
      "text/plain": "array([[2, 2],\n       [2, 2],\n       [4, 4],\n       [4, 4],\n       [2, 2],\n       [2, 2],\n       [2, 2],\n       [4, 4],\n       [2, 2],\n       [2, 2],\n       [4, 4],\n       [2, 2],\n       [4, 4],\n       [2, 2],\n       [2, 2],\n       [2, 2],\n       [4, 4],\n       [4, 4],\n       [4, 4],\n       [2, 2],\n       [2, 2],\n       [2, 2],\n       [4, 4],\n       [2, 2],\n       [4, 4],\n       [4, 4],\n       [2, 2],\n       [2, 2],\n       [2, 2],\n       [4, 4],\n       [2, 2],\n       [4, 4],\n       [4, 4],\n       [2, 2],\n       [2, 2],\n       [2, 2],\n       [4, 4],\n       [4, 4],\n       [2, 2],\n       [4, 4],\n       [2, 2],\n       [2, 2],\n       [2, 2],\n       [2, 2],\n       [2, 2],\n       [2, 2],\n       [2, 2],\n       [4, 4],\n       [2, 2],\n       [2, 2],\n       [4, 4],\n       [2, 2],\n       [4, 4],\n       [2, 2],\n       [2, 2],\n       [2, 2],\n       [4, 4],\n       [4, 2],\n       [2, 2],\n       [4, 4],\n       [2, 2],\n       [2, 2],\n       [2, 2],\n       [2, 2],\n       [2, 2],\n       [2, 2],\n       [2, 2],\n       [2, 2],\n       [4, 4],\n       [2, 4],\n       [2, 2],\n       [2, 2],\n       [2, 2],\n       [2, 2],\n       [2, 2],\n       [2, 2],\n       [4, 4],\n       [2, 2],\n       [2, 2],\n       [2, 2],\n       [4, 4],\n       [2, 2],\n       [4, 4],\n       [2, 2],\n       [2, 2],\n       [4, 4],\n       [2, 2],\n       [4, 2],\n       [4, 4],\n       [2, 2],\n       [4, 4],\n       [2, 2],\n       [4, 4],\n       [2, 4],\n       [4, 4],\n       [4, 2],\n       [4, 4],\n       [4, 4],\n       [4, 4],\n       [2, 2],\n       [2, 2],\n       [2, 2],\n       [4, 4],\n       [4, 4],\n       [2, 2],\n       [2, 2],\n       [4, 4],\n       [2, 4],\n       [2, 2],\n       [2, 2],\n       [4, 4],\n       [2, 2],\n       [2, 2],\n       [4, 4],\n       [2, 2],\n       [2, 2],\n       [2, 2],\n       [4, 4],\n       [2, 2],\n       [2, 2],\n       [2, 2],\n       [4, 4],\n       [2, 2],\n       [2, 2],\n       [4, 4],\n       [4, 4],\n       [2, 2],\n       [4, 4],\n       [2, 2],\n       [4, 4],\n       [2, 2],\n       [2, 2],\n       [4, 4],\n       [2, 2],\n       [2, 2],\n       [4, 4],\n       [2, 2]], dtype=int64)"
     },
     "execution_count": 6,
     "metadata": {},
     "output_type": "execute_result"
    }
   ],
   "source": [
    "y_predict = classifer.predict(x_test)\n",
    "np.concatenate((y_predict.reshape(len(y_predict),1),y_test.reshape(len(y_test),1)),1)"
   ],
   "metadata": {
    "collapsed": false,
    "pycharm": {
     "name": "#%%\n"
    }
   }
  },
  {
   "cell_type": "code",
   "execution_count": 7,
   "outputs": [
    {
     "data": {
      "text/plain": "array([[84,  3],\n       [ 3, 47]], dtype=int64)"
     },
     "execution_count": 7,
     "metadata": {},
     "output_type": "execute_result"
    }
   ],
   "source": [
    "from sklearn.metrics import confusion_matrix, accuracy_score\n",
    "confusion_matrix(y_predict, y_test)"
   ],
   "metadata": {
    "collapsed": false,
    "pycharm": {
     "name": "#%%\n"
    }
   }
  },
  {
   "cell_type": "code",
   "execution_count": 8,
   "outputs": [
    {
     "data": {
      "text/plain": "0.9562043795620438"
     },
     "execution_count": 8,
     "metadata": {},
     "output_type": "execute_result"
    }
   ],
   "source": [
    "accuracy_score(y_predict, y_test)"
   ],
   "metadata": {
    "collapsed": false,
    "pycharm": {
     "name": "#%%\n"
    }
   }
  },
  {
   "cell_type": "code",
   "execution_count": null,
   "outputs": [],
   "source": [],
   "metadata": {
    "collapsed": false,
    "pycharm": {
     "name": "#%%\n"
    }
   }
  }
 ],
 "metadata": {
  "kernelspec": {
   "display_name": "Python 3",
   "language": "python",
   "name": "python3"
  },
  "language_info": {
   "codemirror_mode": {
    "name": "ipython",
    "version": 2
   },
   "file_extension": ".py",
   "mimetype": "text/x-python",
   "name": "python",
   "nbconvert_exporter": "python",
   "pygments_lexer": "ipython2",
   "version": "2.7.6"
  }
 },
 "nbformat": 4,
 "nbformat_minor": 0
}