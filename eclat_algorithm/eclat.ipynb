{
 "cells": [
  {
   "cell_type": "markdown",
   "source": [
    "## this is similar to apriori but here we only consider support training and classes all are same as apriori"
   ],
   "metadata": {
    "collapsed": false
   }
  },
  {
   "cell_type": "code",
   "execution_count": 6,
   "metadata": {
    "collapsed": true
   },
   "outputs": [],
   "source": [
    "import numpy as np\n",
    "import pandas as pd\n",
    "from operator import length_hint"
   ]
  },
  {
   "cell_type": "code",
   "execution_count": 43,
   "outputs": [],
   "source": [
    "dataset = pd.read_csv('Market_Basket_Optimisation.csv', header=None)\n",
    "\n",
    "value=[]\n",
    "\n",
    "for i in range(0,len(dataset)):\n",
    "    value.append([str(dataset.values[i,j]) for j in range(0, len(dataset.iloc[i,:].values))])\n"
   ],
   "metadata": {
    "collapsed": false,
    "pycharm": {
     "name": "#%%\n"
    }
   }
  },
  {
   "cell_type": "code",
   "execution_count": 46,
   "outputs": [],
   "source": [
    "from apyori import apriori\n",
    "rules = apriori(transactions=value,min_support=0.003, min_confidence=0.2, min_lift=3, min_length =2, max_length=2)\n",
    "results = list(rules)"
   ],
   "metadata": {
    "collapsed": false,
    "pycharm": {
     "name": "#%%\n"
    }
   }
  },
  {
   "cell_type": "code",
   "execution_count": 47,
   "outputs": [
    {
     "data": {
      "text/plain": "[RelationRecord(items=frozenset({'light cream', 'chicken'}), support=0.004532728969470737, ordered_statistics=[OrderedStatistic(items_base=frozenset({'light cream'}), items_add=frozenset({'chicken'}), confidence=0.29059829059829057, lift=4.84395061728395)]),\n RelationRecord(items=frozenset({'escalope', 'mushroom cream sauce'}), support=0.005732568990801226, ordered_statistics=[OrderedStatistic(items_base=frozenset({'mushroom cream sauce'}), items_add=frozenset({'escalope'}), confidence=0.3006993006993007, lift=3.790832696715049)]),\n RelationRecord(items=frozenset({'escalope', 'pasta'}), support=0.005865884548726837, ordered_statistics=[OrderedStatistic(items_base=frozenset({'pasta'}), items_add=frozenset({'escalope'}), confidence=0.3728813559322034, lift=4.700811850163794)]),\n RelationRecord(items=frozenset({'fromage blanc', 'honey'}), support=0.003332888948140248, ordered_statistics=[OrderedStatistic(items_base=frozenset({'fromage blanc'}), items_add=frozenset({'honey'}), confidence=0.2450980392156863, lift=5.164270764485569)]),\n RelationRecord(items=frozenset({'herb & pepper', 'ground beef'}), support=0.015997866951073192, ordered_statistics=[OrderedStatistic(items_base=frozenset({'herb & pepper'}), items_add=frozenset({'ground beef'}), confidence=0.3234501347708895, lift=3.2919938411349285)]),\n RelationRecord(items=frozenset({'ground beef', 'tomato sauce'}), support=0.005332622317024397, ordered_statistics=[OrderedStatistic(items_base=frozenset({'tomato sauce'}), items_add=frozenset({'ground beef'}), confidence=0.3773584905660377, lift=3.840659481324083)]),\n RelationRecord(items=frozenset({'light cream', 'olive oil'}), support=0.003199573390214638, ordered_statistics=[OrderedStatistic(items_base=frozenset({'light cream'}), items_add=frozenset({'olive oil'}), confidence=0.20512820512820515, lift=3.1147098515519573)]),\n RelationRecord(items=frozenset({'olive oil', 'whole wheat pasta'}), support=0.007998933475536596, ordered_statistics=[OrderedStatistic(items_base=frozenset({'whole wheat pasta'}), items_add=frozenset({'olive oil'}), confidence=0.2714932126696833, lift=4.122410097642296)]),\n RelationRecord(items=frozenset({'pasta', 'shrimp'}), support=0.005065991201173177, ordered_statistics=[OrderedStatistic(items_base=frozenset({'pasta'}), items_add=frozenset({'shrimp'}), confidence=0.3220338983050847, lift=4.506672147735896)])]"
     },
     "execution_count": 47,
     "metadata": {},
     "output_type": "execute_result"
    }
   ],
   "source": [
    "results"
   ],
   "metadata": {
    "collapsed": false,
    "pycharm": {
     "name": "#%%\n"
    }
   }
  },
  {
   "cell_type": "code",
   "execution_count": 49,
   "outputs": [],
   "source": [
    "def arrange(results):\n",
    "    left_item = [tuple(result[2][0][0])[0] for result in results]\n",
    "    right_item = [tuple(result[2][0][1])[0] for result in results]\n",
    "    support = [result[1] for result in results]\n",
    "\n",
    "    return list(zip(left_item, right_item, support))\n",
    "result_dataframe= pd.DataFrame(arrange(results), columns=['bought item', 'recommended item', 'support'])"
   ],
   "metadata": {
    "collapsed": false,
    "pycharm": {
     "name": "#%%\n"
    }
   }
  },
  {
   "cell_type": "code",
   "execution_count": 50,
   "outputs": [
    {
     "data": {
      "text/plain": "            bought item recommended item   support\n0           light cream          chicken  0.004533\n1  mushroom cream sauce         escalope  0.005733\n2                 pasta         escalope  0.005866\n3         fromage blanc            honey  0.003333\n4         herb & pepper      ground beef  0.015998\n5          tomato sauce      ground beef  0.005333\n6           light cream        olive oil  0.003200\n7     whole wheat pasta        olive oil  0.007999\n8                 pasta           shrimp  0.005066",
      "text/html": "<div>\n<style scoped>\n    .dataframe tbody tr th:only-of-type {\n        vertical-align: middle;\n    }\n\n    .dataframe tbody tr th {\n        vertical-align: top;\n    }\n\n    .dataframe thead th {\n        text-align: right;\n    }\n</style>\n<table border=\"1\" class=\"dataframe\">\n  <thead>\n    <tr style=\"text-align: right;\">\n      <th></th>\n      <th>bought item</th>\n      <th>recommended item</th>\n      <th>support</th>\n    </tr>\n  </thead>\n  <tbody>\n    <tr>\n      <th>0</th>\n      <td>light cream</td>\n      <td>chicken</td>\n      <td>0.004533</td>\n    </tr>\n    <tr>\n      <th>1</th>\n      <td>mushroom cream sauce</td>\n      <td>escalope</td>\n      <td>0.005733</td>\n    </tr>\n    <tr>\n      <th>2</th>\n      <td>pasta</td>\n      <td>escalope</td>\n      <td>0.005866</td>\n    </tr>\n    <tr>\n      <th>3</th>\n      <td>fromage blanc</td>\n      <td>honey</td>\n      <td>0.003333</td>\n    </tr>\n    <tr>\n      <th>4</th>\n      <td>herb &amp; pepper</td>\n      <td>ground beef</td>\n      <td>0.015998</td>\n    </tr>\n    <tr>\n      <th>5</th>\n      <td>tomato sauce</td>\n      <td>ground beef</td>\n      <td>0.005333</td>\n    </tr>\n    <tr>\n      <th>6</th>\n      <td>light cream</td>\n      <td>olive oil</td>\n      <td>0.003200</td>\n    </tr>\n    <tr>\n      <th>7</th>\n      <td>whole wheat pasta</td>\n      <td>olive oil</td>\n      <td>0.007999</td>\n    </tr>\n    <tr>\n      <th>8</th>\n      <td>pasta</td>\n      <td>shrimp</td>\n      <td>0.005066</td>\n    </tr>\n  </tbody>\n</table>\n</div>"
     },
     "execution_count": 50,
     "metadata": {},
     "output_type": "execute_result"
    }
   ],
   "source": [
    "result_dataframe"
   ],
   "metadata": {
    "collapsed": false,
    "pycharm": {
     "name": "#%%\n"
    }
   }
  },
  {
   "cell_type": "code",
   "execution_count": 52,
   "outputs": [
    {
     "data": {
      "text/plain": "            bought item recommended item   support\n4         herb & pepper      ground beef  0.015998\n7     whole wheat pasta        olive oil  0.007999\n2                 pasta         escalope  0.005866\n1  mushroom cream sauce         escalope  0.005733\n5          tomato sauce      ground beef  0.005333\n8                 pasta           shrimp  0.005066\n0           light cream          chicken  0.004533\n3         fromage blanc            honey  0.003333\n6           light cream        olive oil  0.003200",
      "text/html": "<div>\n<style scoped>\n    .dataframe tbody tr th:only-of-type {\n        vertical-align: middle;\n    }\n\n    .dataframe tbody tr th {\n        vertical-align: top;\n    }\n\n    .dataframe thead th {\n        text-align: right;\n    }\n</style>\n<table border=\"1\" class=\"dataframe\">\n  <thead>\n    <tr style=\"text-align: right;\">\n      <th></th>\n      <th>bought item</th>\n      <th>recommended item</th>\n      <th>support</th>\n    </tr>\n  </thead>\n  <tbody>\n    <tr>\n      <th>4</th>\n      <td>herb &amp; pepper</td>\n      <td>ground beef</td>\n      <td>0.015998</td>\n    </tr>\n    <tr>\n      <th>7</th>\n      <td>whole wheat pasta</td>\n      <td>olive oil</td>\n      <td>0.007999</td>\n    </tr>\n    <tr>\n      <th>2</th>\n      <td>pasta</td>\n      <td>escalope</td>\n      <td>0.005866</td>\n    </tr>\n    <tr>\n      <th>1</th>\n      <td>mushroom cream sauce</td>\n      <td>escalope</td>\n      <td>0.005733</td>\n    </tr>\n    <tr>\n      <th>5</th>\n      <td>tomato sauce</td>\n      <td>ground beef</td>\n      <td>0.005333</td>\n    </tr>\n    <tr>\n      <th>8</th>\n      <td>pasta</td>\n      <td>shrimp</td>\n      <td>0.005066</td>\n    </tr>\n    <tr>\n      <th>0</th>\n      <td>light cream</td>\n      <td>chicken</td>\n      <td>0.004533</td>\n    </tr>\n    <tr>\n      <th>3</th>\n      <td>fromage blanc</td>\n      <td>honey</td>\n      <td>0.003333</td>\n    </tr>\n    <tr>\n      <th>6</th>\n      <td>light cream</td>\n      <td>olive oil</td>\n      <td>0.003200</td>\n    </tr>\n  </tbody>\n</table>\n</div>"
     },
     "execution_count": 52,
     "metadata": {},
     "output_type": "execute_result"
    }
   ],
   "source": [
    "result_dataframe.nlargest(n=len(result_dataframe), columns='support')"
   ],
   "metadata": {
    "collapsed": false,
    "pycharm": {
     "name": "#%%\n"
    }
   }
  },
  {
   "cell_type": "code",
   "execution_count": 53,
   "outputs": [],
   "source": [
    "file_name = 'eclatexport.csv'\n",
    "result_dataframe.to_csv(file_name)"
   ],
   "metadata": {
    "collapsed": false,
    "pycharm": {
     "name": "#%%\n"
    }
   }
  },
  {
   "cell_type": "code",
   "execution_count": null,
   "outputs": [],
   "source": [],
   "metadata": {
    "collapsed": false,
    "pycharm": {
     "name": "#%%\n"
    }
   }
  }
 ],
 "metadata": {
  "kernelspec": {
   "display_name": "Python 3",
   "language": "python",
   "name": "python3"
  },
  "language_info": {
   "codemirror_mode": {
    "name": "ipython",
    "version": 2
   },
   "file_extension": ".py",
   "mimetype": "text/x-python",
   "name": "python",
   "nbconvert_exporter": "python",
   "pygments_lexer": "ipython2",
   "version": "2.7.6"
  }
 },
 "nbformat": 4,
 "nbformat_minor": 0
}